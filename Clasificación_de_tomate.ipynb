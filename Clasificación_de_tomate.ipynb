{
  "cells": [
    {
      "cell_type": "markdown",
      "metadata": {
        "id": "view-in-github",
        "colab_type": "text"
      },
      "source": [
        "<a href=\"https://colab.research.google.com/github/Felipe-DelosSantos09/Diplomado-IA/blob/master/Clasificaci%C3%B3n_de_tomate.ipynb\" target=\"_parent\"><img src=\"https://colab.research.google.com/assets/colab-badge.svg\" alt=\"Open In Colab\"/></a>"
      ]
    },
    {
      "cell_type": "code",
      "execution_count": 201,
      "metadata": {
        "colab": {
          "base_uri": "https://localhost:8080/"
        },
        "id": "CeFGPu8KFYc6",
        "outputId": "e98fa9e8-94f7-44b3-ddf6-34bc0d0e7ecf"
      },
      "outputs": [
        {
          "output_type": "stream",
          "name": "stdout",
          "text": [
            "Drive already mounted at /content/drive; to attempt to forcibly remount, call drive.mount(\"/content/drive\", force_remount=True).\n"
          ]
        }
      ],
      "source": [
        "from google.colab import drive\n",
        "drive.mount('/content/drive')"
      ]
    },
    {
      "cell_type": "code",
      "execution_count": 202,
      "metadata": {
        "id": "rH93CWVcFhgS"
      },
      "outputs": [],
      "source": [
        "import tensorflow as tf\n",
        "from tensorflow import keras\n",
        "import cv2\n",
        "import zipfile\n",
        "import io"
      ]
    },
    {
      "cell_type": "code",
      "execution_count": 203,
      "metadata": {
        "id": "YyikrfJLGe8h"
      },
      "outputs": [],
      "source": [
        "#!cp /content/drive/MyDrive/Base_Datos_Tomates.zip ../"
      ]
    },
    {
      "cell_type": "code",
      "execution_count": 204,
      "metadata": {
        "id": "TsLUmRWoFyxW"
      },
      "outputs": [],
      "source": [
        "#!unzip /content/drive/MyDrive/Base_Datos_Tomates.zip -d /content/drive/MyDrive/CLASIFICACION_TOMATES"
      ]
    },
    {
      "cell_type": "code",
      "execution_count": 205,
      "metadata": {
        "id": "Q1Mt-CJbG-MO"
      },
      "outputs": [],
      "source": [
        "import os\n",
        "\n",
        "base_dir = '/content/drive/MyDrive/CLASIFICACION_TOMATES/Base_Datos_Tomates'\n",
        "\n",
        "train_dir =      os.path.join(base_dir, 'Train')\n",
        "validation_dir = os.path.join(base_dir, 'Validation')\n",
        "test_dir =       os.path.join(base_dir, 'Test')\n",
        "\n",
        "# Directorio con las imagenes de training\n",
        "train_1_verde_dir = os.path.join(train_dir, '1_Verde')\n",
        "train_2_quebrado_dir = os.path.join(train_dir, '2_Quebrado')\n",
        "train_3_rayado_dir = os.path.join(train_dir, '3_Rayado')\n",
        "train_4_naranja_dir = os.path.join(train_dir, '4_Naranja')\n",
        "train_5_rojonaranja_dir = os.path.join(train_dir, '5_RojoNaranja')\n",
        "train_6_rojo_dir = os.path.join(train_dir, '6_Rojo')\n",
        "\n",
        "# Directorio con las imagenes de validation\n",
        "validation_1_verde_dir = os.path.join(validation_dir, '1_Verde')\n",
        "validation_2_quebrado_dir = os.path.join(validation_dir, '2_Quebrado')\n",
        "validation_3_rayado_dir = os.path.join(validation_dir, '3_Rayado')\n",
        "validation_4_naranja_dir = os.path.join(validation_dir, '4_Naranja')\n",
        "validation_5_rojonaranja_dir = os.path.join(validation_dir, '5_RojoNaranja')\n",
        "validation_6_rojo_dir = os.path.join(validation_dir, '6_Rojo')\n",
        "\n",
        "# Directorio con las imagenes de test\n",
        "test_1_verde_dir = os.path.join(test_dir, '1_Verde')\n",
        "test_2_quebrado_dir = os.path.join(test_dir, '2_Quebrado')\n",
        "test_3_rayado_dir = os.path.join(test_dir, '3_Rayado')\n",
        "test_4_naranja_dir = os.path.join(test_dir, '4_Naranja')\n",
        "test_5_rojonaranja_dir = os.path.join(test_dir, '5_RojoNaranja')\n",
        "test_6_rojo_dir = os.path.join(test_dir, '6_Rojo')\n"
      ]
    },
    {
      "cell_type": "code",
      "execution_count": 206,
      "metadata": {
        "colab": {
          "base_uri": "https://localhost:8080/"
        },
        "id": "UmM5E_-jJMnJ",
        "outputId": "5909a244-7fa7-4a4d-fb9d-1a9b2cad2ad4"
      },
      "outputs": [
        {
          "output_type": "stream",
          "name": "stdout",
          "text": [
            "total imagenes entrenamiento 1_Verde : 400\n",
            "total imagenes entrenamiento 2_Quebrado : 400\n",
            "total imagenes entrenamiento 3_Rayado : 400\n",
            "total imagenes entrenamiento 4_Naranja : 400\n",
            "total imagenes entrenamiento 5_RojoNaranja : 400\n",
            "total imagenes entrenamiento 6_Rojo : 400\n",
            "total imagenes entrenamiento 1_Verde : 100\n",
            "total imagenes entrenamiento 2_Quebrado : 100\n",
            "total imagenes entrenamiento 3_Rayado : 100\n",
            "total imagenes entrenamiento 4_Naranja : 100\n",
            "total imagenes entrenamiento 5_RojoNaranja : 100\n",
            "total imagenes entrenamiento 6_Rojo : 100\n",
            "total imagenes entrenamiento 1_Verde : 200\n",
            "total imagenes entrenamiento 2_Quebrado : 200\n",
            "total imagenes entrenamiento 3_Rayado : 200\n",
            "total imagenes entrenamiento 4_Naranja : 200\n",
            "total imagenes entrenamiento 5_RojoNaranja : 200\n",
            "total imagenes entrenamiento 6_Rojo : 200\n"
          ]
        }
      ],
      "source": [
        "print('total imagenes entrenamiento 1_Verde :', len(os.listdir(train_1_verde_dir) ))\n",
        "print('total imagenes entrenamiento 2_Quebrado :', len(os.listdir(train_2_quebrado_dir) ))\n",
        "print('total imagenes entrenamiento 3_Rayado :', len(os.listdir(train_3_rayado_dir) ))\n",
        "print('total imagenes entrenamiento 4_Naranja :', len(os.listdir(train_4_naranja_dir) ))\n",
        "print('total imagenes entrenamiento 5_RojoNaranja :', len(os.listdir(train_5_rojonaranja_dir) ))\n",
        "print('total imagenes entrenamiento 6_Rojo :', len(os.listdir(train_6_rojo_dir)))\n",
        "\n",
        "print('total imagenes entrenamiento 1_Verde :', len(os.listdir(validation_1_verde_dir) ))\n",
        "print('total imagenes entrenamiento 2_Quebrado :', len(os.listdir(validation_2_quebrado_dir) ))\n",
        "print('total imagenes entrenamiento 3_Rayado :', len(os.listdir(validation_3_rayado_dir) ))\n",
        "print('total imagenes entrenamiento 4_Naranja :', len(os.listdir(validation_4_naranja_dir) ))\n",
        "print('total imagenes entrenamiento 5_RojoNaranja :', len(os.listdir(validation_5_rojonaranja_dir) ))\n",
        "print('total imagenes entrenamiento 6_Rojo :', len(os.listdir(validation_6_rojo_dir)))\n",
        "\n",
        "print('total imagenes entrenamiento 1_Verde :', len(os.listdir(test_1_verde_dir) ))\n",
        "print('total imagenes entrenamiento 2_Quebrado :', len(os.listdir(test_2_quebrado_dir) ))\n",
        "print('total imagenes entrenamiento 3_Rayado :', len(os.listdir(test_3_rayado_dir) ))\n",
        "print('total imagenes entrenamiento 4_Naranja :', len(os.listdir(test_4_naranja_dir) ))\n",
        "print('total imagenes entrenamiento 5_RojoNaranja :', len(os.listdir(test_5_rojonaranja_dir) ))\n",
        "print('total imagenes entrenamiento 6_Rojo :', len(os.listdir(test_6_rojo_dir)))\n",
        "\n"
      ]
    },
    {
      "cell_type": "code",
      "execution_count": 207,
      "metadata": {
        "colab": {
          "base_uri": "https://localhost:8080/"
        },
        "id": "4xtr05urImmM",
        "outputId": "8b5570d5-0dbc-44eb-aa5b-0ca6c594380e"
      },
      "outputs": [
        {
          "output_type": "stream",
          "name": "stdout",
          "text": [
            "Found 2400 images belonging to 6 classes.\n",
            "Found 600 images belonging to 6 classes.\n",
            "Found 1200 images belonging to 6 classes.\n"
          ]
        }
      ],
      "source": [
        "from tensorflow.keras.preprocessing.image import ImageDataGenerator\n",
        "\n",
        "train_datagen = ImageDataGenerator( rescale = 1.0/255. )\n",
        "validation_datagen  = ImageDataGenerator( rescale = 1.0/255. )\n",
        "test_datagen  = ImageDataGenerator( rescale = 1.0/255. )\n",
        "\n",
        "\n",
        "train_generator = train_datagen.flow_from_directory(train_dir,\n",
        "                                                    batch_size=100,\n",
        "                                                    class_mode='categorical',\n",
        "                                                    target_size=(256, 256))\n",
        "\n",
        "validation_generator =  validation_datagen.flow_from_directory(validation_dir,\n",
        "                                                         batch_size=100,\n",
        "                                                         class_mode  = 'categorical',\n",
        "                                                         target_size = (256, 256))\n",
        "\n",
        "\n",
        "test_generator =  test_datagen.flow_from_directory(test_dir,\n",
        "                                                         batch_size=100,\n",
        "                                                         class_mode  = 'categorical',\n",
        "                                                         target_size = (256, 256),\n",
        "                                                         shuffle = False)\n"
      ]
    },
    {
      "cell_type": "code",
      "execution_count": 208,
      "metadata": {
        "colab": {
          "base_uri": "https://localhost:8080/"
        },
        "id": "WccwkgM6KeQR",
        "outputId": "7975203f-a73a-4d03-9bbc-7dfa68e4ac42"
      },
      "outputs": [
        {
          "output_type": "stream",
          "name": "stdout",
          "text": [
            "Model: \"vgg16\"\n",
            "_________________________________________________________________\n",
            " Layer (type)                Output Shape              Param #   \n",
            "=================================================================\n",
            " input_10 (InputLayer)       [(None, 256, 256, 3)]     0         \n",
            "                                                                 \n",
            " block1_conv1 (Conv2D)       (None, 256, 256, 64)      1792      \n",
            "                                                                 \n",
            " block1_conv2 (Conv2D)       (None, 256, 256, 64)      36928     \n",
            "                                                                 \n",
            " block1_pool (MaxPooling2D)  (None, 128, 128, 64)      0         \n",
            "                                                                 \n",
            " block2_conv1 (Conv2D)       (None, 128, 128, 128)     73856     \n",
            "                                                                 \n",
            " block2_conv2 (Conv2D)       (None, 128, 128, 128)     147584    \n",
            "                                                                 \n",
            " block2_pool (MaxPooling2D)  (None, 64, 64, 128)       0         \n",
            "                                                                 \n",
            " block3_conv1 (Conv2D)       (None, 64, 64, 256)       295168    \n",
            "                                                                 \n",
            " block3_conv2 (Conv2D)       (None, 64, 64, 256)       590080    \n",
            "                                                                 \n",
            " block3_conv3 (Conv2D)       (None, 64, 64, 256)       590080    \n",
            "                                                                 \n",
            " block3_pool (MaxPooling2D)  (None, 32, 32, 256)       0         \n",
            "                                                                 \n",
            " block4_conv1 (Conv2D)       (None, 32, 32, 512)       1180160   \n",
            "                                                                 \n",
            " block4_conv2 (Conv2D)       (None, 32, 32, 512)       2359808   \n",
            "                                                                 \n",
            " block4_conv3 (Conv2D)       (None, 32, 32, 512)       2359808   \n",
            "                                                                 \n",
            " block4_pool (MaxPooling2D)  (None, 16, 16, 512)       0         \n",
            "                                                                 \n",
            " block5_conv1 (Conv2D)       (None, 16, 16, 512)       2359808   \n",
            "                                                                 \n",
            " block5_conv2 (Conv2D)       (None, 16, 16, 512)       2359808   \n",
            "                                                                 \n",
            " block5_conv3 (Conv2D)       (None, 16, 16, 512)       2359808   \n",
            "                                                                 \n",
            " block5_pool (MaxPooling2D)  (None, 8, 8, 512)         0         \n",
            "                                                                 \n",
            "=================================================================\n",
            "Total params: 14714688 (56.13 MB)\n",
            "Trainable params: 4719616 (18.00 MB)\n",
            "Non-trainable params: 9995072 (38.13 MB)\n",
            "_________________________________________________________________\n"
          ]
        }
      ],
      "source": [
        "from tensorflow.keras.applications import VGG16\n",
        "\n",
        "pre_trained_model = VGG16(input_shape = (256, 256, 3),\n",
        "                                include_top = False,\n",
        "                                weights = 'imagenet')\n",
        "\n",
        "pre_trained_model.trainable = True\n",
        "\n",
        "set_trainable = False\n",
        "\n",
        "\n",
        "for layer in pre_trained_model.layers:\n",
        "  if layer.name == 'block5_conv2':\n",
        "    set_trainable = True\n",
        "  if set_trainable:\n",
        "    layer.trainable = True\n",
        "  else:\n",
        "    layer.trainable = False\n",
        "\n",
        "pre_trained_model.summary()"
      ]
    },
    {
      "cell_type": "code",
      "execution_count": 209,
      "metadata": {
        "id": "PMmLNQbKKokh"
      },
      "outputs": [],
      "source": [
        "from tensorflow.keras import Model\n",
        "\n",
        "from tensorflow.keras import Sequential\n",
        "from tensorflow.keras.layers import Conv2D, MaxPooling2D, Flatten, Dense, Dropout\n",
        "\n",
        "#modelFT = Sequential()\n",
        "#modelFT.add(pre_trained_model)\n",
        "#modelFT.add(Flatten())\n",
        "#modelFT.add(Dense(4096, activation='relu'))\n",
        "#modelFT.add(Dense(512, activation='relu'))\n",
        "#modelFT.add(Dense(6, activation='sigmoid'))\n",
        "\n",
        "#modelFT.summary()"
      ]
    },
    {
      "cell_type": "code",
      "source": [
        "modelFT = Sequential()\n",
        "modelFT.add(Conv2D(32, (3,3), activation=\"relu\", input_shape=(256, 256, 3)))\n",
        "modelFT.add(Dropout(0.25))\n",
        "modelFT.add(MaxPooling2D((2,2)))\n",
        "modelFT.add(Conv2D(64, (3,3), activation=\"relu\"))\n",
        "modelFT.add(Dropout(0.25))\n",
        "modelFT.add(MaxPooling2D((2,2)))\n",
        "modelFT.add(Conv2D(128, (3,3), activation=\"relu\"))\n",
        "modelFT.add(Dropout(0.25))\n",
        "modelFT.add(MaxPooling2D((2,2)))\n",
        "modelFT.add(Conv2D(256, (3,3), activation=\"relu\"))\n",
        "modelFT.add(MaxPooling2D((2,2)))\n",
        "modelFT.add(Flatten())\n",
        "modelFT.add(Dense(4096, activation=\"relu\"))\n",
        "modelFT.add(Dense(512, activation=\"relu\"))\n",
        "modelFT.add(Dense(512, activation=\"relu\"))\n",
        "modelFT.add(Dense(6, activation=\"sigmoid\"))"
      ],
      "metadata": {
        "id": "A67jG3nXqMGk"
      },
      "execution_count": 210,
      "outputs": []
    },
    {
      "cell_type": "code",
      "execution_count": 211,
      "metadata": {
        "id": "UHs9ZMZZK1_U"
      },
      "outputs": [],
      "source": [
        "from tensorflow.keras.optimizers import Adagrad\n",
        "\n",
        "modelFT.compile(optimizer=Adagrad(learning_rate=1e-4),\n",
        "              loss='categorical_crossentropy',\n",
        "              metrics = ['acc'])"
      ]
    },
    {
      "cell_type": "code",
      "execution_count": 212,
      "metadata": {
        "colab": {
          "base_uri": "https://localhost:8080/"
        },
        "id": "GRBnypzgLGCt",
        "outputId": "e5f8cdcf-5aa0-4544-e568-fc079a137a54"
      },
      "outputs": [
        {
          "output_type": "stream",
          "name": "stdout",
          "text": [
            "24\n",
            "6\n"
          ]
        }
      ],
      "source": [
        "batch_size = 100\n",
        "steps_per_epoch = train_generator.n // batch_size\n",
        "validation_steps = validation_generator.n // batch_size\n",
        "\n",
        "print (steps_per_epoch)\n",
        "print (validation_steps)"
      ]
    },
    {
      "cell_type": "code",
      "execution_count": 213,
      "metadata": {
        "id": "a8XWwz0JLKRl"
      },
      "outputs": [],
      "source": [
        "from tensorflow.keras.callbacks import ModelCheckpoint, EarlyStopping"
      ]
    },
    {
      "cell_type": "code",
      "execution_count": 214,
      "metadata": {
        "id": "yInsrM6FLN6t"
      },
      "outputs": [],
      "source": [
        "checkpoint_FT = ModelCheckpoint(filepath=\"pesos_FT.weights.best.hdf5\",save_best_only=True,verbose=1)"
      ]
    },
    {
      "cell_type": "code",
      "execution_count": 215,
      "metadata": {
        "id": "9WPvEhf5LPd3"
      },
      "outputs": [],
      "source": [
        "early_stop= EarlyStopping(monitor=\"val_loss\",patience=10,restore_best_weights=True,mode=\"min\")"
      ]
    },
    {
      "cell_type": "code",
      "execution_count": 216,
      "metadata": {
        "colab": {
          "base_uri": "https://localhost:8080/"
        },
        "id": "2EdY-Hl0LR5R",
        "outputId": "a67fbba9-e57e-4711-f751-095595b63ce0"
      },
      "outputs": [
        {
          "output_type": "stream",
          "name": "stdout",
          "text": [
            "Epoch 1/100\n",
            "\n",
            "Epoch 1: val_loss improved from inf to 1.78583, saving model to pesos_FT.weights.best.hdf5\n"
          ]
        },
        {
          "output_type": "stream",
          "name": "stderr",
          "text": [
            "/usr/local/lib/python3.10/dist-packages/keras/src/engine/training.py:3103: UserWarning: You are saving your model as an HDF5 file via `model.save()`. This file format is considered legacy. We recommend using instead the native Keras format, e.g. `model.save('my_model.keras')`.\n",
            "  saving_api.save_model(\n"
          ]
        },
        {
          "output_type": "stream",
          "name": "stdout",
          "text": [
            "24/24 - 22s - loss: 1.7847 - acc: 0.1817 - val_loss: 1.7858 - val_acc: 0.1583 - 22s/epoch - 924ms/step\n",
            "Epoch 2/100\n",
            "\n",
            "Epoch 2: val_loss improved from 1.78583 to 1.78135, saving model to pesos_FT.weights.best.hdf5\n",
            "24/24 - 23s - loss: 1.7719 - acc: 0.1908 - val_loss: 1.7813 - val_acc: 0.1700 - 23s/epoch - 940ms/step\n",
            "Epoch 3/100\n",
            "\n",
            "Epoch 3: val_loss improved from 1.78135 to 1.77703, saving model to pesos_FT.weights.best.hdf5\n",
            "24/24 - 23s - loss: 1.7594 - acc: 0.2113 - val_loss: 1.7770 - val_acc: 0.1933 - 23s/epoch - 975ms/step\n",
            "Epoch 4/100\n",
            "\n",
            "Epoch 4: val_loss improved from 1.77703 to 1.77305, saving model to pesos_FT.weights.best.hdf5\n",
            "24/24 - 23s - loss: 1.7474 - acc: 0.2246 - val_loss: 1.7731 - val_acc: 0.2233 - 23s/epoch - 968ms/step\n",
            "Epoch 5/100\n",
            "\n",
            "Epoch 5: val_loss improved from 1.77305 to 1.76921, saving model to pesos_FT.weights.best.hdf5\n",
            "24/24 - 23s - loss: 1.7366 - acc: 0.2608 - val_loss: 1.7692 - val_acc: 0.2333 - 23s/epoch - 954ms/step\n",
            "Epoch 6/100\n",
            "\n",
            "Epoch 6: val_loss improved from 1.76921 to 1.76535, saving model to pesos_FT.weights.best.hdf5\n",
            "24/24 - 23s - loss: 1.7259 - acc: 0.2675 - val_loss: 1.7654 - val_acc: 0.2700 - 23s/epoch - 971ms/step\n",
            "Epoch 7/100\n",
            "\n",
            "Epoch 7: val_loss improved from 1.76535 to 1.76143, saving model to pesos_FT.weights.best.hdf5\n",
            "24/24 - 23s - loss: 1.7154 - acc: 0.2950 - val_loss: 1.7614 - val_acc: 0.3150 - 23s/epoch - 974ms/step\n",
            "Epoch 8/100\n",
            "\n",
            "Epoch 8: val_loss improved from 1.76143 to 1.75719, saving model to pesos_FT.weights.best.hdf5\n",
            "24/24 - 24s - loss: 1.7044 - acc: 0.3221 - val_loss: 1.7572 - val_acc: 0.3467 - 24s/epoch - 980ms/step\n",
            "Epoch 9/100\n",
            "\n",
            "Epoch 9: val_loss improved from 1.75719 to 1.75274, saving model to pesos_FT.weights.best.hdf5\n",
            "24/24 - 24s - loss: 1.6937 - acc: 0.3433 - val_loss: 1.7527 - val_acc: 0.3750 - 24s/epoch - 988ms/step\n",
            "Epoch 10/100\n",
            "\n",
            "Epoch 10: val_loss improved from 1.75274 to 1.74806, saving model to pesos_FT.weights.best.hdf5\n",
            "24/24 - 22s - loss: 1.6819 - acc: 0.3567 - val_loss: 1.7481 - val_acc: 0.3867 - 22s/epoch - 932ms/step\n",
            "Epoch 11/100\n",
            "\n",
            "Epoch 11: val_loss improved from 1.74806 to 1.74314, saving model to pesos_FT.weights.best.hdf5\n",
            "24/24 - 24s - loss: 1.6697 - acc: 0.3692 - val_loss: 1.7431 - val_acc: 0.3983 - 24s/epoch - 980ms/step\n",
            "Epoch 12/100\n",
            "\n",
            "Epoch 12: val_loss improved from 1.74314 to 1.73791, saving model to pesos_FT.weights.best.hdf5\n",
            "24/24 - 23s - loss: 1.6570 - acc: 0.3871 - val_loss: 1.7379 - val_acc: 0.4067 - 23s/epoch - 970ms/step\n",
            "Epoch 13/100\n",
            "\n",
            "Epoch 13: val_loss improved from 1.73791 to 1.73222, saving model to pesos_FT.weights.best.hdf5\n",
            "24/24 - 23s - loss: 1.6437 - acc: 0.4013 - val_loss: 1.7322 - val_acc: 0.4133 - 23s/epoch - 978ms/step\n",
            "Epoch 14/100\n",
            "\n",
            "Epoch 14: val_loss improved from 1.73222 to 1.72604, saving model to pesos_FT.weights.best.hdf5\n",
            "24/24 - 25s - loss: 1.6292 - acc: 0.4175 - val_loss: 1.7260 - val_acc: 0.4200 - 25s/epoch - 1s/step\n",
            "Epoch 15/100\n",
            "\n",
            "Epoch 15: val_loss improved from 1.72604 to 1.71939, saving model to pesos_FT.weights.best.hdf5\n",
            "24/24 - 21s - loss: 1.6133 - acc: 0.4313 - val_loss: 1.7194 - val_acc: 0.4483 - 21s/epoch - 885ms/step\n",
            "Epoch 16/100\n",
            "\n",
            "Epoch 16: val_loss improved from 1.71939 to 1.71200, saving model to pesos_FT.weights.best.hdf5\n",
            "24/24 - 23s - loss: 1.5969 - acc: 0.4688 - val_loss: 1.7120 - val_acc: 0.4567 - 23s/epoch - 968ms/step\n",
            "Epoch 17/100\n",
            "\n",
            "Epoch 17: val_loss improved from 1.71200 to 1.70414, saving model to pesos_FT.weights.best.hdf5\n",
            "24/24 - 23s - loss: 1.5788 - acc: 0.4896 - val_loss: 1.7041 - val_acc: 0.4700 - 23s/epoch - 971ms/step\n",
            "Epoch 18/100\n",
            "\n",
            "Epoch 18: val_loss improved from 1.70414 to 1.69611, saving model to pesos_FT.weights.best.hdf5\n",
            "24/24 - 23s - loss: 1.5606 - acc: 0.4983 - val_loss: 1.6961 - val_acc: 0.4983 - 23s/epoch - 959ms/step\n",
            "Epoch 19/100\n",
            "\n",
            "Epoch 19: val_loss improved from 1.69611 to 1.68733, saving model to pesos_FT.weights.best.hdf5\n",
            "24/24 - 23s - loss: 1.5413 - acc: 0.5317 - val_loss: 1.6873 - val_acc: 0.5167 - 23s/epoch - 960ms/step\n",
            "Epoch 20/100\n",
            "\n",
            "Epoch 20: val_loss improved from 1.68733 to 1.67807, saving model to pesos_FT.weights.best.hdf5\n",
            "24/24 - 23s - loss: 1.5208 - acc: 0.5462 - val_loss: 1.6781 - val_acc: 0.5300 - 23s/epoch - 961ms/step\n",
            "Epoch 21/100\n",
            "\n",
            "Epoch 21: val_loss improved from 1.67807 to 1.66817, saving model to pesos_FT.weights.best.hdf5\n",
            "24/24 - 26s - loss: 1.4997 - acc: 0.5658 - val_loss: 1.6682 - val_acc: 0.5400 - 26s/epoch - 1s/step\n",
            "Epoch 22/100\n",
            "\n",
            "Epoch 22: val_loss improved from 1.66817 to 1.65759, saving model to pesos_FT.weights.best.hdf5\n",
            "24/24 - 21s - loss: 1.4776 - acc: 0.5863 - val_loss: 1.6576 - val_acc: 0.5383 - 21s/epoch - 887ms/step\n",
            "Epoch 23/100\n",
            "\n",
            "Epoch 23: val_loss improved from 1.65759 to 1.64624, saving model to pesos_FT.weights.best.hdf5\n",
            "24/24 - 22s - loss: 1.4533 - acc: 0.6062 - val_loss: 1.6462 - val_acc: 0.5450 - 22s/epoch - 925ms/step\n",
            "Epoch 24/100\n",
            "\n",
            "Epoch 24: val_loss improved from 1.64624 to 1.63447, saving model to pesos_FT.weights.best.hdf5\n",
            "24/24 - 23s - loss: 1.4284 - acc: 0.6175 - val_loss: 1.6345 - val_acc: 0.5600 - 23s/epoch - 978ms/step\n",
            "Epoch 25/100\n",
            "\n",
            "Epoch 25: val_loss improved from 1.63447 to 1.62209, saving model to pesos_FT.weights.best.hdf5\n",
            "24/24 - 23s - loss: 1.4023 - acc: 0.6383 - val_loss: 1.6221 - val_acc: 0.5700 - 23s/epoch - 965ms/step\n",
            "Epoch 26/100\n",
            "\n",
            "Epoch 26: val_loss improved from 1.62209 to 1.60857, saving model to pesos_FT.weights.best.hdf5\n",
            "24/24 - 23s - loss: 1.3764 - acc: 0.6608 - val_loss: 1.6086 - val_acc: 0.5817 - 23s/epoch - 961ms/step\n",
            "Epoch 27/100\n",
            "\n",
            "Epoch 27: val_loss improved from 1.60857 to 1.59494, saving model to pesos_FT.weights.best.hdf5\n",
            "24/24 - 24s - loss: 1.3476 - acc: 0.6704 - val_loss: 1.5949 - val_acc: 0.5983 - 24s/epoch - 993ms/step\n",
            "Epoch 28/100\n",
            "\n",
            "Epoch 28: val_loss improved from 1.59494 to 1.57992, saving model to pesos_FT.weights.best.hdf5\n",
            "24/24 - 23s - loss: 1.3196 - acc: 0.7033 - val_loss: 1.5799 - val_acc: 0.6183 - 23s/epoch - 974ms/step\n",
            "Epoch 29/100\n",
            "\n",
            "Epoch 29: val_loss improved from 1.57992 to 1.56567, saving model to pesos_FT.weights.best.hdf5\n",
            "24/24 - 23s - loss: 1.2904 - acc: 0.7058 - val_loss: 1.5657 - val_acc: 0.6433 - 23s/epoch - 972ms/step\n",
            "Epoch 30/100\n",
            "\n",
            "Epoch 30: val_loss improved from 1.56567 to 1.54999, saving model to pesos_FT.weights.best.hdf5\n",
            "24/24 - 23s - loss: 1.2619 - acc: 0.7267 - val_loss: 1.5500 - val_acc: 0.6550 - 23s/epoch - 963ms/step\n",
            "Epoch 31/100\n",
            "\n",
            "Epoch 31: val_loss improved from 1.54999 to 1.53374, saving model to pesos_FT.weights.best.hdf5\n",
            "24/24 - 27s - loss: 1.2318 - acc: 0.7346 - val_loss: 1.5337 - val_acc: 0.6483 - 27s/epoch - 1s/step\n",
            "Epoch 32/100\n",
            "\n",
            "Epoch 32: val_loss improved from 1.53374 to 1.51762, saving model to pesos_FT.weights.best.hdf5\n",
            "24/24 - 23s - loss: 1.2020 - acc: 0.7471 - val_loss: 1.5176 - val_acc: 0.6500 - 23s/epoch - 961ms/step\n",
            "Epoch 33/100\n",
            "\n",
            "Epoch 33: val_loss improved from 1.51762 to 1.50110, saving model to pesos_FT.weights.best.hdf5\n",
            "24/24 - 21s - loss: 1.1715 - acc: 0.7525 - val_loss: 1.5011 - val_acc: 0.6583 - 21s/epoch - 883ms/step\n",
            "Epoch 34/100\n",
            "\n",
            "Epoch 34: val_loss improved from 1.50110 to 1.48268, saving model to pesos_FT.weights.best.hdf5\n",
            "24/24 - 23s - loss: 1.1420 - acc: 0.7583 - val_loss: 1.4827 - val_acc: 0.6600 - 23s/epoch - 955ms/step\n",
            "Epoch 35/100\n",
            "\n",
            "Epoch 35: val_loss improved from 1.48268 to 1.46614, saving model to pesos_FT.weights.best.hdf5\n",
            "24/24 - 23s - loss: 1.1124 - acc: 0.7583 - val_loss: 1.4661 - val_acc: 0.6650 - 23s/epoch - 964ms/step\n",
            "Epoch 36/100\n",
            "\n",
            "Epoch 36: val_loss improved from 1.46614 to 1.44893, saving model to pesos_FT.weights.best.hdf5\n",
            "24/24 - 24s - loss: 1.0836 - acc: 0.7625 - val_loss: 1.4489 - val_acc: 0.6567 - 24s/epoch - 980ms/step\n",
            "Epoch 37/100\n",
            "\n",
            "Epoch 37: val_loss improved from 1.44893 to 1.43030, saving model to pesos_FT.weights.best.hdf5\n",
            "24/24 - 23s - loss: 1.0545 - acc: 0.7629 - val_loss: 1.4303 - val_acc: 0.6600 - 23s/epoch - 974ms/step\n",
            "Epoch 38/100\n",
            "\n",
            "Epoch 38: val_loss improved from 1.43030 to 1.41268, saving model to pesos_FT.weights.best.hdf5\n",
            "24/24 - 23s - loss: 1.0261 - acc: 0.7742 - val_loss: 1.4127 - val_acc: 0.6517 - 23s/epoch - 963ms/step\n",
            "Epoch 39/100\n",
            "\n",
            "Epoch 39: val_loss improved from 1.41268 to 1.39475, saving model to pesos_FT.weights.best.hdf5\n",
            "24/24 - 24s - loss: 0.9991 - acc: 0.7804 - val_loss: 1.3947 - val_acc: 0.6633 - 24s/epoch - 1s/step\n",
            "Epoch 40/100\n",
            "\n",
            "Epoch 40: val_loss improved from 1.39475 to 1.37684, saving model to pesos_FT.weights.best.hdf5\n",
            "24/24 - 26s - loss: 0.9715 - acc: 0.7796 - val_loss: 1.3768 - val_acc: 0.6650 - 26s/epoch - 1s/step\n",
            "Epoch 41/100\n",
            "\n",
            "Epoch 41: val_loss improved from 1.37684 to 1.35880, saving model to pesos_FT.weights.best.hdf5\n",
            "24/24 - 20s - loss: 0.9465 - acc: 0.7904 - val_loss: 1.3588 - val_acc: 0.6700 - 20s/epoch - 832ms/step\n",
            "Epoch 42/100\n",
            "\n",
            "Epoch 42: val_loss improved from 1.35880 to 1.34199, saving model to pesos_FT.weights.best.hdf5\n",
            "24/24 - 23s - loss: 0.9216 - acc: 0.7942 - val_loss: 1.3420 - val_acc: 0.6800 - 23s/epoch - 958ms/step\n",
            "Epoch 43/100\n",
            "\n",
            "Epoch 43: val_loss improved from 1.34199 to 1.32508, saving model to pesos_FT.weights.best.hdf5\n",
            "24/24 - 23s - loss: 0.8962 - acc: 0.7912 - val_loss: 1.3251 - val_acc: 0.6817 - 23s/epoch - 978ms/step\n",
            "Epoch 44/100\n",
            "\n",
            "Epoch 44: val_loss improved from 1.32508 to 1.30644, saving model to pesos_FT.weights.best.hdf5\n",
            "24/24 - 24s - loss: 0.8735 - acc: 0.8008 - val_loss: 1.3064 - val_acc: 0.6800 - 24s/epoch - 988ms/step\n",
            "Epoch 45/100\n",
            "\n",
            "Epoch 45: val_loss improved from 1.30644 to 1.29242, saving model to pesos_FT.weights.best.hdf5\n",
            "24/24 - 23s - loss: 0.8496 - acc: 0.8054 - val_loss: 1.2924 - val_acc: 0.6917 - 23s/epoch - 965ms/step\n",
            "Epoch 46/100\n",
            "\n",
            "Epoch 46: val_loss improved from 1.29242 to 1.27424, saving model to pesos_FT.weights.best.hdf5\n",
            "24/24 - 23s - loss: 0.8287 - acc: 0.8092 - val_loss: 1.2742 - val_acc: 0.6933 - 23s/epoch - 964ms/step\n",
            "Epoch 47/100\n",
            "\n",
            "Epoch 47: val_loss improved from 1.27424 to 1.25836, saving model to pesos_FT.weights.best.hdf5\n",
            "24/24 - 23s - loss: 0.8079 - acc: 0.8146 - val_loss: 1.2584 - val_acc: 0.7100 - 23s/epoch - 959ms/step\n",
            "Epoch 48/100\n",
            "\n",
            "Epoch 48: val_loss improved from 1.25836 to 1.24191, saving model to pesos_FT.weights.best.hdf5\n",
            "24/24 - 23s - loss: 0.7879 - acc: 0.8179 - val_loss: 1.2419 - val_acc: 0.7167 - 23s/epoch - 967ms/step\n",
            "Epoch 49/100\n",
            "\n",
            "Epoch 49: val_loss improved from 1.24191 to 1.22548, saving model to pesos_FT.weights.best.hdf5\n",
            "24/24 - 23s - loss: 0.7686 - acc: 0.8158 - val_loss: 1.2255 - val_acc: 0.7167 - 23s/epoch - 968ms/step\n",
            "Epoch 50/100\n",
            "\n",
            "Epoch 50: val_loss improved from 1.22548 to 1.21112, saving model to pesos_FT.weights.best.hdf5\n",
            "24/24 - 23s - loss: 0.7491 - acc: 0.8225 - val_loss: 1.2111 - val_acc: 0.7217 - 23s/epoch - 975ms/step\n",
            "Epoch 51/100\n",
            "\n",
            "Epoch 51: val_loss improved from 1.21112 to 1.19699, saving model to pesos_FT.weights.best.hdf5\n",
            "24/24 - 23s - loss: 0.7327 - acc: 0.8250 - val_loss: 1.1970 - val_acc: 0.7300 - 23s/epoch - 966ms/step\n",
            "Epoch 52/100\n",
            "\n",
            "Epoch 52: val_loss improved from 1.19699 to 1.17920, saving model to pesos_FT.weights.best.hdf5\n",
            "24/24 - 23s - loss: 0.7151 - acc: 0.8271 - val_loss: 1.1792 - val_acc: 0.7383 - 23s/epoch - 965ms/step\n",
            "Epoch 53/100\n",
            "\n",
            "Epoch 53: val_loss improved from 1.17920 to 1.16933, saving model to pesos_FT.weights.best.hdf5\n",
            "24/24 - 23s - loss: 0.6992 - acc: 0.8325 - val_loss: 1.1693 - val_acc: 0.7333 - 23s/epoch - 962ms/step\n",
            "Epoch 54/100\n",
            "\n",
            "Epoch 54: val_loss improved from 1.16933 to 1.15621, saving model to pesos_FT.weights.best.hdf5\n",
            "24/24 - 23s - loss: 0.6837 - acc: 0.8408 - val_loss: 1.1562 - val_acc: 0.7300 - 23s/epoch - 961ms/step\n",
            "Epoch 55/100\n",
            "\n",
            "Epoch 55: val_loss improved from 1.15621 to 1.14035, saving model to pesos_FT.weights.best.hdf5\n",
            "24/24 - 23s - loss: 0.6688 - acc: 0.8404 - val_loss: 1.1403 - val_acc: 0.7367 - 23s/epoch - 974ms/step\n",
            "Epoch 56/100\n",
            "\n",
            "Epoch 56: val_loss improved from 1.14035 to 1.12836, saving model to pesos_FT.weights.best.hdf5\n",
            "24/24 - 23s - loss: 0.6542 - acc: 0.8450 - val_loss: 1.1284 - val_acc: 0.7433 - 23s/epoch - 977ms/step\n",
            "Epoch 57/100\n",
            "\n",
            "Epoch 57: val_loss improved from 1.12836 to 1.11384, saving model to pesos_FT.weights.best.hdf5\n",
            "24/24 - 23s - loss: 0.6393 - acc: 0.8400 - val_loss: 1.1138 - val_acc: 0.7400 - 23s/epoch - 974ms/step\n",
            "Epoch 58/100\n",
            "\n",
            "Epoch 58: val_loss improved from 1.11384 to 1.10412, saving model to pesos_FT.weights.best.hdf5\n",
            "24/24 - 23s - loss: 0.6263 - acc: 0.8517 - val_loss: 1.1041 - val_acc: 0.7533 - 23s/epoch - 959ms/step\n",
            "Epoch 59/100\n",
            "\n",
            "Epoch 59: val_loss improved from 1.10412 to 1.08892, saving model to pesos_FT.weights.best.hdf5\n",
            "24/24 - 23s - loss: 0.6139 - acc: 0.8471 - val_loss: 1.0889 - val_acc: 0.7633 - 23s/epoch - 953ms/step\n",
            "Epoch 60/100\n",
            "\n",
            "Epoch 60: val_loss improved from 1.08892 to 1.07733, saving model to pesos_FT.weights.best.hdf5\n",
            "24/24 - 23s - loss: 0.6008 - acc: 0.8512 - val_loss: 1.0773 - val_acc: 0.7667 - 23s/epoch - 963ms/step\n",
            "Epoch 61/100\n",
            "\n",
            "Epoch 61: val_loss improved from 1.07733 to 1.06449, saving model to pesos_FT.weights.best.hdf5\n",
            "24/24 - 23s - loss: 0.5880 - acc: 0.8558 - val_loss: 1.0645 - val_acc: 0.7683 - 23s/epoch - 971ms/step\n",
            "Epoch 62/100\n",
            "\n",
            "Epoch 62: val_loss improved from 1.06449 to 1.05688, saving model to pesos_FT.weights.best.hdf5\n",
            "24/24 - 23s - loss: 0.5776 - acc: 0.8554 - val_loss: 1.0569 - val_acc: 0.7667 - 23s/epoch - 965ms/step\n",
            "Epoch 63/100\n",
            "\n",
            "Epoch 63: val_loss improved from 1.05688 to 1.04490, saving model to pesos_FT.weights.best.hdf5\n",
            "24/24 - 23s - loss: 0.5676 - acc: 0.8604 - val_loss: 1.0449 - val_acc: 0.7567 - 23s/epoch - 955ms/step\n",
            "Epoch 64/100\n",
            "\n",
            "Epoch 64: val_loss improved from 1.04490 to 1.03363, saving model to pesos_FT.weights.best.hdf5\n",
            "24/24 - 23s - loss: 0.5566 - acc: 0.8612 - val_loss: 1.0336 - val_acc: 0.7650 - 23s/epoch - 957ms/step\n",
            "Epoch 65/100\n",
            "\n",
            "Epoch 65: val_loss improved from 1.03363 to 1.02435, saving model to pesos_FT.weights.best.hdf5\n",
            "24/24 - 23s - loss: 0.5451 - acc: 0.8654 - val_loss: 1.0243 - val_acc: 0.7533 - 23s/epoch - 974ms/step\n",
            "Epoch 66/100\n",
            "\n",
            "Epoch 66: val_loss improved from 1.02435 to 1.01271, saving model to pesos_FT.weights.best.hdf5\n",
            "24/24 - 23s - loss: 0.5348 - acc: 0.8629 - val_loss: 1.0127 - val_acc: 0.7683 - 23s/epoch - 974ms/step\n",
            "Epoch 67/100\n",
            "\n",
            "Epoch 67: val_loss improved from 1.01271 to 1.00037, saving model to pesos_FT.weights.best.hdf5\n",
            "24/24 - 24s - loss: 0.5255 - acc: 0.8646 - val_loss: 1.0004 - val_acc: 0.7767 - 24s/epoch - 995ms/step\n",
            "Epoch 68/100\n",
            "\n",
            "Epoch 68: val_loss improved from 1.00037 to 0.98967, saving model to pesos_FT.weights.best.hdf5\n",
            "24/24 - 23s - loss: 0.5155 - acc: 0.8683 - val_loss: 0.9897 - val_acc: 0.7783 - 23s/epoch - 943ms/step\n",
            "Epoch 69/100\n",
            "\n",
            "Epoch 69: val_loss improved from 0.98967 to 0.98117, saving model to pesos_FT.weights.best.hdf5\n",
            "24/24 - 23s - loss: 0.5064 - acc: 0.8704 - val_loss: 0.9812 - val_acc: 0.7783 - 23s/epoch - 949ms/step\n",
            "Epoch 70/100\n",
            "\n",
            "Epoch 70: val_loss improved from 0.98117 to 0.97183, saving model to pesos_FT.weights.best.hdf5\n",
            "24/24 - 26s - loss: 0.4982 - acc: 0.8737 - val_loss: 0.9718 - val_acc: 0.7700 - 26s/epoch - 1s/step\n",
            "Epoch 71/100\n",
            "\n",
            "Epoch 71: val_loss improved from 0.97183 to 0.96072, saving model to pesos_FT.weights.best.hdf5\n",
            "24/24 - 23s - loss: 0.4887 - acc: 0.8767 - val_loss: 0.9607 - val_acc: 0.7867 - 23s/epoch - 949ms/step\n",
            "Epoch 72/100\n",
            "\n",
            "Epoch 72: val_loss improved from 0.96072 to 0.95483, saving model to pesos_FT.weights.best.hdf5\n",
            "24/24 - 23s - loss: 0.4817 - acc: 0.8704 - val_loss: 0.9548 - val_acc: 0.7733 - 23s/epoch - 942ms/step\n",
            "Epoch 73/100\n",
            "\n",
            "Epoch 73: val_loss improved from 0.95483 to 0.94549, saving model to pesos_FT.weights.best.hdf5\n",
            "24/24 - 22s - loss: 0.4738 - acc: 0.8721 - val_loss: 0.9455 - val_acc: 0.7800 - 22s/epoch - 922ms/step\n",
            "Epoch 74/100\n",
            "\n",
            "Epoch 74: val_loss improved from 0.94549 to 0.94100, saving model to pesos_FT.weights.best.hdf5\n",
            "24/24 - 23s - loss: 0.4645 - acc: 0.8796 - val_loss: 0.9410 - val_acc: 0.7633 - 23s/epoch - 979ms/step\n",
            "Epoch 75/100\n",
            "\n",
            "Epoch 75: val_loss improved from 0.94100 to 0.93097, saving model to pesos_FT.weights.best.hdf5\n",
            "24/24 - 23s - loss: 0.4580 - acc: 0.8771 - val_loss: 0.9310 - val_acc: 0.7767 - 23s/epoch - 975ms/step\n",
            "Epoch 76/100\n",
            "\n",
            "Epoch 76: val_loss improved from 0.93097 to 0.92272, saving model to pesos_FT.weights.best.hdf5\n",
            "24/24 - 24s - loss: 0.4510 - acc: 0.8788 - val_loss: 0.9227 - val_acc: 0.7800 - 24s/epoch - 989ms/step\n",
            "Epoch 77/100\n",
            "\n",
            "Epoch 77: val_loss improved from 0.92272 to 0.91469, saving model to pesos_FT.weights.best.hdf5\n",
            "24/24 - 22s - loss: 0.4436 - acc: 0.8838 - val_loss: 0.9147 - val_acc: 0.7933 - 22s/epoch - 904ms/step\n",
            "Epoch 78/100\n",
            "\n",
            "Epoch 78: val_loss improved from 0.91469 to 0.90679, saving model to pesos_FT.weights.best.hdf5\n",
            "24/24 - 23s - loss: 0.4370 - acc: 0.8871 - val_loss: 0.9068 - val_acc: 0.7833 - 23s/epoch - 968ms/step\n",
            "Epoch 79/100\n",
            "\n",
            "Epoch 79: val_loss improved from 0.90679 to 0.89644, saving model to pesos_FT.weights.best.hdf5\n",
            "24/24 - 27s - loss: 0.4313 - acc: 0.8850 - val_loss: 0.8964 - val_acc: 0.7900 - 27s/epoch - 1s/step\n",
            "Epoch 80/100\n",
            "\n",
            "Epoch 80: val_loss improved from 0.89644 to 0.89628, saving model to pesos_FT.weights.best.hdf5\n",
            "24/24 - 21s - loss: 0.4233 - acc: 0.8938 - val_loss: 0.8963 - val_acc: 0.7817 - 21s/epoch - 894ms/step\n",
            "Epoch 81/100\n",
            "\n",
            "Epoch 81: val_loss improved from 0.89628 to 0.88176, saving model to pesos_FT.weights.best.hdf5\n",
            "24/24 - 24s - loss: 0.4169 - acc: 0.8900 - val_loss: 0.8818 - val_acc: 0.7917 - 24s/epoch - 983ms/step\n",
            "Epoch 82/100\n",
            "\n",
            "Epoch 82: val_loss improved from 0.88176 to 0.87281, saving model to pesos_FT.weights.best.hdf5\n",
            "24/24 - 23s - loss: 0.4103 - acc: 0.8933 - val_loss: 0.8728 - val_acc: 0.7883 - 23s/epoch - 979ms/step\n",
            "Epoch 83/100\n",
            "\n",
            "Epoch 83: val_loss improved from 0.87281 to 0.87223, saving model to pesos_FT.weights.best.hdf5\n",
            "24/24 - 24s - loss: 0.4039 - acc: 0.8933 - val_loss: 0.8722 - val_acc: 0.7783 - 24s/epoch - 980ms/step\n",
            "Epoch 84/100\n",
            "\n",
            "Epoch 84: val_loss improved from 0.87223 to 0.86170, saving model to pesos_FT.weights.best.hdf5\n",
            "24/24 - 24s - loss: 0.3995 - acc: 0.8938 - val_loss: 0.8617 - val_acc: 0.8100 - 24s/epoch - 979ms/step\n",
            "Epoch 85/100\n",
            "\n",
            "Epoch 85: val_loss improved from 0.86170 to 0.85425, saving model to pesos_FT.weights.best.hdf5\n",
            "24/24 - 23s - loss: 0.3935 - acc: 0.8963 - val_loss: 0.8543 - val_acc: 0.7900 - 23s/epoch - 962ms/step\n",
            "Epoch 86/100\n",
            "\n",
            "Epoch 86: val_loss improved from 0.85425 to 0.84862, saving model to pesos_FT.weights.best.hdf5\n",
            "24/24 - 23s - loss: 0.3884 - acc: 0.8975 - val_loss: 0.8486 - val_acc: 0.7950 - 23s/epoch - 954ms/step\n",
            "Epoch 87/100\n",
            "\n",
            "Epoch 87: val_loss improved from 0.84862 to 0.84419, saving model to pesos_FT.weights.best.hdf5\n",
            "24/24 - 23s - loss: 0.3828 - acc: 0.9021 - val_loss: 0.8442 - val_acc: 0.7917 - 23s/epoch - 951ms/step\n",
            "Epoch 88/100\n",
            "\n",
            "Epoch 88: val_loss improved from 0.84419 to 0.83780, saving model to pesos_FT.weights.best.hdf5\n",
            "24/24 - 24s - loss: 0.3767 - acc: 0.9038 - val_loss: 0.8378 - val_acc: 0.7900 - 24s/epoch - 983ms/step\n",
            "Epoch 89/100\n",
            "\n",
            "Epoch 89: val_loss improved from 0.83780 to 0.82872, saving model to pesos_FT.weights.best.hdf5\n",
            "24/24 - 23s - loss: 0.3737 - acc: 0.9058 - val_loss: 0.8287 - val_acc: 0.7933 - 23s/epoch - 979ms/step\n",
            "Epoch 90/100\n",
            "\n",
            "Epoch 90: val_loss improved from 0.82872 to 0.82687, saving model to pesos_FT.weights.best.hdf5\n",
            "24/24 - 24s - loss: 0.3664 - acc: 0.9071 - val_loss: 0.8269 - val_acc: 0.7883 - 24s/epoch - 982ms/step\n",
            "Epoch 91/100\n",
            "\n",
            "Epoch 91: val_loss improved from 0.82687 to 0.81804, saving model to pesos_FT.weights.best.hdf5\n",
            "24/24 - 23s - loss: 0.3633 - acc: 0.9067 - val_loss: 0.8180 - val_acc: 0.8017 - 23s/epoch - 961ms/step\n",
            "Epoch 92/100\n",
            "\n",
            "Epoch 92: val_loss improved from 0.81804 to 0.80961, saving model to pesos_FT.weights.best.hdf5\n",
            "24/24 - 23s - loss: 0.3573 - acc: 0.9108 - val_loss: 0.8096 - val_acc: 0.7983 - 23s/epoch - 969ms/step\n",
            "Epoch 93/100\n",
            "\n",
            "Epoch 93: val_loss improved from 0.80961 to 0.80407, saving model to pesos_FT.weights.best.hdf5\n",
            "24/24 - 23s - loss: 0.3526 - acc: 0.9087 - val_loss: 0.8041 - val_acc: 0.7983 - 23s/epoch - 973ms/step\n",
            "Epoch 94/100\n",
            "\n",
            "Epoch 94: val_loss improved from 0.80407 to 0.79996, saving model to pesos_FT.weights.best.hdf5\n",
            "24/24 - 23s - loss: 0.3482 - acc: 0.9125 - val_loss: 0.8000 - val_acc: 0.7967 - 23s/epoch - 954ms/step\n",
            "Epoch 95/100\n",
            "\n",
            "Epoch 95: val_loss improved from 0.79996 to 0.79387, saving model to pesos_FT.weights.best.hdf5\n",
            "24/24 - 23s - loss: 0.3444 - acc: 0.9104 - val_loss: 0.7939 - val_acc: 0.7950 - 23s/epoch - 972ms/step\n",
            "Epoch 96/100\n",
            "\n",
            "Epoch 96: val_loss did not improve from 0.79387\n",
            "24/24 - 20s - loss: 0.3386 - acc: 0.9162 - val_loss: 0.7967 - val_acc: 0.7900 - 20s/epoch - 848ms/step\n",
            "Epoch 97/100\n",
            "\n",
            "Epoch 97: val_loss improved from 0.79387 to 0.78485, saving model to pesos_FT.weights.best.hdf5\n",
            "24/24 - 20s - loss: 0.3347 - acc: 0.9162 - val_loss: 0.7848 - val_acc: 0.7983 - 20s/epoch - 833ms/step\n",
            "Epoch 98/100\n",
            "\n",
            "Epoch 98: val_loss improved from 0.78485 to 0.77678, saving model to pesos_FT.weights.best.hdf5\n",
            "24/24 - 23s - loss: 0.3316 - acc: 0.9117 - val_loss: 0.7768 - val_acc: 0.8017 - 23s/epoch - 973ms/step\n",
            "Epoch 99/100\n",
            "\n",
            "Epoch 99: val_loss improved from 0.77678 to 0.77422, saving model to pesos_FT.weights.best.hdf5\n",
            "24/24 - 23s - loss: 0.3278 - acc: 0.9154 - val_loss: 0.7742 - val_acc: 0.7950 - 23s/epoch - 960ms/step\n",
            "Epoch 100/100\n",
            "\n",
            "Epoch 100: val_loss improved from 0.77422 to 0.77213, saving model to pesos_FT.weights.best.hdf5\n",
            "24/24 - 23s - loss: 0.3247 - acc: 0.9146 - val_loss: 0.7721 - val_acc: 0.8083 - 23s/epoch - 959ms/step\n"
          ]
        }
      ],
      "source": [
        "historyFT = modelFT.fit(\n",
        "            train_generator,\n",
        "            validation_data = validation_generator,\n",
        "            steps_per_epoch = steps_per_epoch,\n",
        "            epochs = 100,\n",
        "            validation_steps = validation_steps,\n",
        "            verbose = 2,callbacks=[checkpoint_FT,early_stop])"
      ]
    },
    {
      "cell_type": "code",
      "execution_count": 217,
      "metadata": {
        "id": "GDTzudgpPM1a"
      },
      "outputs": [],
      "source": [
        "modelFT.load_weights(\"/content/pesos_FT.weights.best.hdf5\")"
      ]
    },
    {
      "cell_type": "code",
      "execution_count": 218,
      "metadata": {
        "id": "74ZRkwVTPSKV"
      },
      "outputs": [],
      "source": [
        "import numpy as np"
      ]
    },
    {
      "cell_type": "code",
      "execution_count": 219,
      "metadata": {
        "id": "EOlnXDrZPUqN",
        "colab": {
          "base_uri": "https://localhost:8080/"
        },
        "outputId": "3e92f064-80d5-4f01-8895-41cd7b72a695"
      },
      "outputs": [
        {
          "output_type": "stream",
          "name": "stdout",
          "text": [
            "12/12 [==============================] - 7s 552ms/step - loss: 0.8803 - acc: 0.6600\n",
            "Test Accuracy: 0.6600000262260437\n"
          ]
        }
      ],
      "source": [
        "test_lost, test_acc= modelFT.evaluate(test_generator)\n",
        "print (\"Test Accuracy:\", test_acc)"
      ]
    },
    {
      "cell_type": "code",
      "execution_count": 220,
      "metadata": {
        "id": "Z3N4bdTdPc1R",
        "colab": {
          "base_uri": "https://localhost:8080/",
          "height": 905
        },
        "outputId": "becf2e74-4591-4a1b-f51e-9d4b8633c29d"
      },
      "outputs": [
        {
          "output_type": "stream",
          "name": "stderr",
          "text": [
            "WARNING:matplotlib.legend:No artists with labels found to put in legend.  Note that artists whose label start with an underscore are ignored when legend() is called with no argument.\n",
            "WARNING:matplotlib.backends.backend_ps:The PostScript backend does not support transparency; partially transparent artists will be rendered opaque.\n"
          ]
        },
        {
          "output_type": "display_data",
          "data": {
            "text/plain": [
              "<Figure size 1000x1000 with 1 Axes>"
            ],
            "image/png": "[encoded data removed]"
          },
          "metadata": {}
        }
      ],
      "source": [
        "import matplotlib.pyplot as plt\n",
        "\n",
        "acc      = historyFT.history[     'acc' ]\n",
        "val_acc  = historyFT.history[ 'val_acc' ]\n",
        "loss     = historyFT.history[    'loss' ]\n",
        "val_loss = historyFT.history['val_loss' ]\n",
        "\n",
        "epochs    = range(1,len(acc)+1,1) # obtener número de epochs\n",
        "\n",
        "f, ax = plt.subplots(figsize=(10,10))\n",
        "ax.plot  ( epochs,     acc, 'r--', label=''  )\n",
        "ax.plot  ( epochs, val_acc,  'b', label='')\n",
        "ax.set_title (\"\")\n",
        "ax.set_ylabel('acc')\n",
        "ax.set_xlabel('epochs')\n",
        "ax.legend()\n",
        "f.savefig(\"Training and Validation Accuracy VGG16_FT.png\")\n",
        "f.savefig(\"Training and Validation Accuracy VGG16_FT.eps\")"
      ]
    },
    {
      "cell_type": "code",
      "execution_count": 221,
      "metadata": {
        "id": "dZJi4eu8Pjps",
        "colab": {
          "base_uri": "https://localhost:8080/",
          "height": 905
        },
        "outputId": "4a7179a8-68d8-422f-b2fe-e1471082aa57"
      },
      "outputs": [
        {
          "output_type": "stream",
          "name": "stderr",
          "text": [
            "WARNING:matplotlib.legend:No artists with labels found to put in legend.  Note that artists whose label start with an underscore are ignored when legend() is called with no argument.\n",
            "WARNING:matplotlib.backends.backend_ps:The PostScript backend does not support transparency; partially transparent artists will be rendered opaque.\n"
          ]
        },
        {
          "output_type": "display_data",
          "data": {
            "text/plain": [
              "<Figure size 1000x1000 with 1 Axes>"
            ],
            "image/png": "[encoded data removed]"
          },
          "metadata": {}
        }
      ],
      "source": [
        "f, ax = plt.subplots(figsize=(10,10))\n",
        "ax.plot  ( epochs,     loss, 'r--', label=''  )\n",
        "ax.plot  ( epochs, val_loss ,  'b', label='' )\n",
        "ax.set_title (\"\")\n",
        "ax.set_ylabel('loss')\n",
        "ax.set_xlabel('epochs')\n",
        "ax.legend()\n",
        "f.savefig(\"Training and Validation Loss VGG16_FT.png\")\n",
        "f.savefig(\"Training and Validation Loss VGG16_FT.eps\")"
      ]
    },
    {
      "cell_type": "code",
      "execution_count": 222,
      "metadata": {
        "id": "w2ajURzKPp25"
      },
      "outputs": [],
      "source": [
        "from sklearn.metrics import confusion_matrix, accuracy_score,classification_report"
      ]
    },
    {
      "cell_type": "code",
      "execution_count": 223,
      "metadata": {
        "id": "P0R1KPSyPsNy"
      },
      "outputs": [],
      "source": [
        "import numpy as np\n",
        "import seaborn as sns"
      ]
    },
    {
      "cell_type": "code",
      "execution_count": 224,
      "metadata": {
        "id": "55dapn8iPtDL"
      },
      "outputs": [],
      "source": [
        "# Funcion que permite graficar las matrices de confusion\n",
        "def plot_heatmap(y_true, y_pred, class_names, ax, title):\n",
        "    cm = confusion_matrix(y_true, y_pred)\n",
        "    sns.heatmap(\n",
        "        cm,\n",
        "        annot=True,\n",
        "        square=True,\n",
        "        xticklabels=class_names,\n",
        "        yticklabels=class_names,\n",
        "        fmt='d',\n",
        "        cmap=plt.cm.Blues,\n",
        "        cbar=False,\n",
        "        ax=ax\n",
        "    )\n",
        "    ax.set_title(title, fontsize=16)\n",
        "    ax.set_xticklabels(ax.get_xticklabels(), rotation=45, ha=\"right\")\n",
        "    ax.set_ylabel('True Label', fontsize=12)\n",
        "    ax.set_xlabel('Predicted Label', fontsize=12)"
      ]
    },
    {
      "cell_type": "code",
      "execution_count": 225,
      "metadata": {
        "id": "enITc956PyIC",
        "colab": {
          "base_uri": "https://localhost:8080/",
          "height": 962
        },
        "outputId": "e4dbbff1-d399-4d77-a08d-9ce77546a139"
      },
      "outputs": [
        {
          "output_type": "stream",
          "name": "stdout",
          "text": [
            "12/12 [==============================] - 7s 549ms/step\n"
          ]
        },
        {
          "output_type": "display_data",
          "data": {
            "text/plain": [
              "<Figure size 1000x1000 with 1 Axes>"
            ],
            "image/png": "[encoded data removed]"
          },
          "metadata": {}
        }
      ],
      "source": [
        "fig, ax = plt.subplots(1, 1, figsize=(10, 10))\n",
        "plot_heatmap(test_generator.classes, np.argmax(modelFT.predict(test_generator),axis=1), test_generator.class_indices.keys() , ax, title=\"VGG16_FT\")\n",
        "fig.savefig(\"VGG16_FT matrix_confusion.png\")\n",
        "fig.savefig(\"VGG16_FT matrix_confusion.eps\")"
      ]
    },
    {
      "cell_type": "code",
      "execution_count": 226,
      "metadata": {
        "id": "P_b9rnyWP5FD",
        "colab": {
          "base_uri": "https://localhost:8080/"
        },
        "outputId": "f1d53462-9b0d-49e1-af60-69da4b2b7a4b"
      },
      "outputs": [
        {
          "output_type": "stream",
          "name": "stdout",
          "text": [
            "12/12 [==============================] - 7s 547ms/step\n",
            "               precision    recall  f1-score   support\n",
            "\n",
            "      1_Verde       0.65      0.34      0.45       200\n",
            "   2_Quebrado       0.47      0.81      0.60       200\n",
            "     3_Rayado       0.81      0.69      0.74       200\n",
            "    4_Naranja       0.63      0.83      0.72       200\n",
            "5_RojoNaranja       0.69      0.44      0.54       200\n",
            "       6_Rojo       0.89      0.84      0.87       200\n",
            "\n",
            "     accuracy                           0.66      1200\n",
            "    macro avg       0.69      0.66      0.65      1200\n",
            " weighted avg       0.69      0.66      0.65      1200\n",
            "\n"
          ]
        }
      ],
      "source": [
        "print(classification_report(test_generator.classes, np.argmax(modelFT.predict(test_generator),axis=1), target_names=test_generator.class_indices ))"
      ]
    },
    {
      "cell_type": "code",
      "execution_count": 227,
      "metadata": {
        "id": "9nSdZGQ2QCQI"
      },
      "outputs": [],
      "source": [
        "import pandas as pd\n",
        "\n",
        "# assuming you stored your model.fit results in a 'history' variable:\n",
        "#history = model.fit(x_train, y_train, epochs=10)\n",
        "\n",
        "# convert the history.history dict to a pandas DataFrame:\n",
        "hist_df = pd.DataFrame(historyFT.history)\n",
        "\n",
        "# save to json:\n",
        "hist_json_file = 'history.json'\n",
        "with open(hist_json_file, mode='w') as f:\n",
        "    hist_df.to_json(f)\n",
        "\n",
        "# or save to csv:\n",
        "hist_csv_file = 'history.csv'\n",
        "with open(hist_csv_file, mode='w') as f:\n",
        "    hist_df.to_csv(f)"
      ]
    }
  ],
  "metadata": {
    "accelerator": "GPU",
    "colab": {
      "gpuType": "A100",
      "machine_shape": "hm",
      "provenance": [],
      "authorship_tag": "ABX9TyPaPNcDRJ5GQttlaLidtL2I",
      "include_colab_link": true
    },
    "kernelspec": {
      "display_name": "Python 3",
      "name": "python3"
    },
    "language_info": {
      "name": "python"
    }
  },
  "nbformat": 4,
  "nbformat_minor": 0
}