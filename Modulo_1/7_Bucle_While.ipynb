{
 "cells": [
  {
   "cell_type": "markdown",
   "metadata": {},
   "source": [
    "# La sentencia While"
   ]
  },
  {
   "cell_type": "code",
   "execution_count": 3,
   "metadata": {},
   "outputs": [
    {
     "name": "stdout",
     "output_type": "stream",
     "text": [
      "Hola qué tal !!\n",
      "Hola qué tal !!\n",
      "Hola qué tal !!\n",
      "Hola qué tal !!\n",
      "Hola qué tal !!\n",
      "Hola qué tal !!\n",
      "Hola qué tal !!\n",
      "Hola qué tal !!\n",
      "Hola qué tal !!\n",
      "Hola qué tal !!\n",
      "Que tenga un buen día\n"
     ]
    }
   ],
   "source": [
    "stop_word = \"s\"\n",
    "while stop_word == \"s\":\n",
    "    print(\"Hola qué tal !!\")\n",
    "    stop_word = input(\"¿Quiere otro saludo? [s,n]\")\n",
    "print(\"Que tenga un buen día\")"
   ]
  },
  {
   "cell_type": "code",
   "execution_count": 5,
   "metadata": {},
   "outputs": [
    {
     "name": "stdout",
     "output_type": "stream",
     "text": [
      "Hola\n"
     ]
    }
   ],
   "source": [
    "while True:\n",
    "    print(\"Hola\")\n",
    "    break"
   ]
  },
  {
   "cell_type": "code",
   "execution_count": 9,
   "metadata": {},
   "outputs": [
    {
     "name": "stdout",
     "output_type": "stream",
     "text": [
      "Hola qué tal !!\n",
      "Hola qué tal !!\n",
      "Hola qué tal !!\n",
      "Que tenga un buen día\n"
     ]
    }
   ],
   "source": [
    "stop_word = \"s\"\n",
    "MAX_REP = 3\n",
    "n_rep = 0\n",
    "while stop_word == \"s\":\n",
    "    print(\"Hola qué tal !!\")\n",
    "    stop_word = input(\"¿Quiere otro saludo? [s,n]\")\n",
    "    n_rep = n_rep + 1\n",
    "    if n_rep == MAX_REP:\n",
    "        break\n",
    "print(\"Que tenga un buen día\")"
   ]
  },
  {
   "cell_type": "markdown",
   "metadata": {},
   "source": [
    "## Operadores de asignación"
   ]
  },
  {
   "cell_type": "code",
   "execution_count": 10,
   "metadata": {},
   "outputs": [
    {
     "name": "stdout",
     "output_type": "stream",
     "text": [
      "Hola qué tal !!\n",
      "Hola qué tal !!\n",
      "Hola qué tal !!\n",
      "Que tenga un buen día\n"
     ]
    }
   ],
   "source": [
    "stop_word = \"s\"\n",
    "MAX_REP = 3\n",
    "n_rep = 0\n",
    "while stop_word == \"s\":\n",
    "    print(\"Hola qué tal !!\")\n",
    "    stop_word = input(\"¿Quiere otro saludo? [s,n]\")\n",
    "    n_rep += 1\n",
    "    if n_rep == MAX_REP:\n",
    "        break\n",
    "print(\"Que tenga un buen día\")"
   ]
  },
  {
   "cell_type": "code",
   "execution_count": 11,
   "metadata": {},
   "outputs": [
    {
     "name": "stdout",
     "output_type": "stream",
     "text": [
      "Hola qué tal !!\n",
      "Hola qué tal !!\n",
      "Hola qué tal !!\n",
      "Que tenga un buen día\n"
     ]
    }
   ],
   "source": [
    "stop_word = \"s\"\n",
    "n_rep = 3\n",
    "while stop_word == \"s\":\n",
    "    print(\"Hola qué tal !!\")\n",
    "    stop_word = input(\"¿Quiere otro saludo? [s,n]\")\n",
    "    n_rep -= 1\n",
    "    if n_rep == 0:\n",
    "        break\n",
    "print(\"Que tenga un buen día\")"
   ]
  },
  {
   "cell_type": "code",
   "execution_count": 13,
   "metadata": {},
   "outputs": [
    {
     "name": "stdout",
     "output_type": "stream",
     "text": [
      "Hola qué tal !!\n",
      "Que tenga un buen día\n",
      "Hola qué tal !!\n",
      "Que tenga un buen día\n",
      "Hola qué tal !!\n",
      "Que tenga un buen día\n",
      "Hola qué tal !!\n",
      "Hola qué tal !!\n",
      "Hola qué tal !!\n",
      "Hola qué tal !!\n"
     ]
    }
   ],
   "source": [
    "stop_word = \"s\"\n",
    "MAX_REP = 3\n",
    "n_rep = 0\n",
    "while stop_word == \"s\":\n",
    "    print(\"Hola qué tal !!\")\n",
    "    stop_word = input(\"¿Quiere otro saludo? [s,n]\")\n",
    "    n_rep += 1\n",
    "    if n_rep > MAX_REP:\n",
    "        continue\n",
    "    print(\"Que tenga un buen día\")"
   ]
  }
 ],
 "metadata": {
  "kernelspec": {
   "display_name": "Diplomado",
   "language": "python",
   "name": "python3"
  },
  "language_info": {
   "codemirror_mode": {
    "name": "ipython",
    "version": 3
   },
   "file_extension": ".py",
   "mimetype": "text/x-python",
   "name": "python",
   "nbconvert_exporter": "python",
   "pygments_lexer": "ipython3",
   "version": "3.10.14"
  }
 },
 "nbformat": 4,
 "nbformat_minor": 2
}
