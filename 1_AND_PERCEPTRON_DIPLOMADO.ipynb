{
  "nbformat": 4,
  "nbformat_minor": 0,
  "metadata": {
    "colab": {
      "provenance": [],
      "include_colab_link": true
    },
    "kernelspec": {
      "name": "python3",
      "display_name": "Python 3"
    },
    "language_info": {
      "name": "python"
    }
  },
  "cells": [
    {
      "cell_type": "markdown",
      "metadata": {
        "id": "view-in-github",
        "colab_type": "text"
      },
      "source": [
        "<a href=\"https://colab.research.google.com/github/Felipe-DelosSantos09/Diplomado-IA/blob/master/1_AND_PERCEPTRON_DIPLOMADO.ipynb\" target=\"_parent\"><img src=\"https://colab.research.google.com/assets/colab-badge.svg\" alt=\"Open In Colab\"/></a>"
      ]
    },
    {
      "cell_type": "code",
      "execution_count": 1,
      "metadata": {
        "id": "mCWAE2PNkhpl"
      },
      "outputs": [],
      "source": [
        "import numpy as np\n"
      ]
    },
    {
      "cell_type": "code",
      "source": [
        "# Función de activación escalón\n",
        "def escalon_unitario(x):\n",
        "  return 1 if x >= 0 else 0\n"
      ],
      "metadata": {
        "id": "XZSmIFPBoLQw"
      },
      "execution_count": 2,
      "outputs": []
    },
    {
      "cell_type": "code",
      "source": [
        "# Función del Perceptrón\n",
        "def perceptron(datos_entrada, pesos, bias):\n",
        "  # Producto entre la entrada y los pesos\n",
        "  suma_entrada_pesos = np.dot(datos_entrada, pesos) + bias\n",
        "  # Salidas del Perceptrón\n",
        "  output = escalon_unitario(suma_entrada_pesos)\n",
        "  return output"
      ],
      "metadata": {
        "id": "ceTFrehfolQF"
      },
      "execution_count": 3,
      "outputs": []
    },
    {
      "cell_type": "code",
      "source": [
        "\n",
        "# Entrenamiento del Perceptrón para la compuerta AND\n",
        "\n",
        "def entrenamiento_perceptron():\n",
        "  # Datos de (Entrada y Salida) en forma de arreglo\n",
        "  datos_entrada = np.array([[0,0],[0,1],[1,0],[1,1]])\n",
        "  datos_salida = np.array([0, 0, 0, 1])\n",
        "\n",
        "  # Inicialización de los pesos\n",
        "  weights = np.random.rand(2)\n",
        "  bias = np.random.rand()\n",
        "\n",
        "  # Hiperparámetros de la red\n",
        "  learning_rate = 0.1\n",
        "  epochs = 100\n",
        "\n",
        "\n",
        "  # ENTRENAMIENTO DEL PERCEPTRÓN\n",
        "  for epoch in range(epochs):\n",
        "\n",
        "    error_total = 0\n",
        "    # Necesito un ciclo que me maneje los 2 arreglos (ENTRADA - SALIDA)\n",
        "    for entrada, sdeseada in zip(datos_entrada, datos_salida):\n",
        "      #SALIDA DEL PERCEPTRÓN PARA LAS ENTRADAS ACTUALES\n",
        "      output = perceptron(entrada, weights, bias)\n",
        "\n",
        "      # Calculamos el ERROR\n",
        "      error = sdeseada - output\n",
        "\n",
        "      # Actualizar los PESOS y BIAS\n",
        "      weights = weights + (learning_rate*error)\n",
        "      bias = bias + (learning_rate*error)\n",
        "\n",
        "      # PARA FINES DE DAR SEGUIMIENTO AL ENTRENAMIENTO\n",
        "      error_total = error_total + abs(error)\n",
        "    # Termina el segundo FOR y me imprime el error total en cada época\n",
        "    print(f\"época {epoch + 1} - error total:{error_total}\")\n",
        "\n",
        "  return weights , bias\n",
        "\n",
        "\n"
      ],
      "metadata": {
        "id": "aG3mBzKdp4wn"
      },
      "execution_count": 4,
      "outputs": []
    },
    {
      "cell_type": "code",
      "source": [
        "# Ejecutar el entrenamiento del perceptrón y obtener PESOS Y BIAS.\n",
        "\n",
        "pesos_entrenamiento, bias_entrenamiento = entrenamiento_perceptron()"
      ],
      "metadata": {
        "colab": {
          "base_uri": "https://localhost:8080/"
        },
        "id": "3gOtXGMfyctA",
        "outputId": "97eac755-71bf-4bcc-ea49-dd03b9e3f13f"
      },
      "execution_count": 5,
      "outputs": [
        {
          "output_type": "stream",
          "name": "stdout",
          "text": [
            "época 1 - error total:3\n",
            "época 2 - error total:2\n",
            "época 3 - error total:0\n",
            "época 4 - error total:0\n",
            "época 5 - error total:0\n",
            "época 6 - error total:0\n",
            "época 7 - error total:0\n",
            "época 8 - error total:0\n",
            "época 9 - error total:0\n",
            "época 10 - error total:0\n",
            "época 11 - error total:0\n",
            "época 12 - error total:0\n",
            "época 13 - error total:0\n",
            "época 14 - error total:0\n",
            "época 15 - error total:0\n",
            "época 16 - error total:0\n",
            "época 17 - error total:0\n",
            "época 18 - error total:0\n",
            "época 19 - error total:0\n",
            "época 20 - error total:0\n",
            "época 21 - error total:0\n",
            "época 22 - error total:0\n",
            "época 23 - error total:0\n",
            "época 24 - error total:0\n",
            "época 25 - error total:0\n",
            "época 26 - error total:0\n",
            "época 27 - error total:0\n",
            "época 28 - error total:0\n",
            "época 29 - error total:0\n",
            "época 30 - error total:0\n",
            "época 31 - error total:0\n",
            "época 32 - error total:0\n",
            "época 33 - error total:0\n",
            "época 34 - error total:0\n",
            "época 35 - error total:0\n",
            "época 36 - error total:0\n",
            "época 37 - error total:0\n",
            "época 38 - error total:0\n",
            "época 39 - error total:0\n",
            "época 40 - error total:0\n",
            "época 41 - error total:0\n",
            "época 42 - error total:0\n",
            "época 43 - error total:0\n",
            "época 44 - error total:0\n",
            "época 45 - error total:0\n",
            "época 46 - error total:0\n",
            "época 47 - error total:0\n",
            "época 48 - error total:0\n",
            "época 49 - error total:0\n",
            "época 50 - error total:0\n",
            "época 51 - error total:0\n",
            "época 52 - error total:0\n",
            "época 53 - error total:0\n",
            "época 54 - error total:0\n",
            "época 55 - error total:0\n",
            "época 56 - error total:0\n",
            "época 57 - error total:0\n",
            "época 58 - error total:0\n",
            "época 59 - error total:0\n",
            "época 60 - error total:0\n",
            "época 61 - error total:0\n",
            "época 62 - error total:0\n",
            "época 63 - error total:0\n",
            "época 64 - error total:0\n",
            "época 65 - error total:0\n",
            "época 66 - error total:0\n",
            "época 67 - error total:0\n",
            "época 68 - error total:0\n",
            "época 69 - error total:0\n",
            "época 70 - error total:0\n",
            "época 71 - error total:0\n",
            "época 72 - error total:0\n",
            "época 73 - error total:0\n",
            "época 74 - error total:0\n",
            "época 75 - error total:0\n",
            "época 76 - error total:0\n",
            "época 77 - error total:0\n",
            "época 78 - error total:0\n",
            "época 79 - error total:0\n",
            "época 80 - error total:0\n",
            "época 81 - error total:0\n",
            "época 82 - error total:0\n",
            "época 83 - error total:0\n",
            "época 84 - error total:0\n",
            "época 85 - error total:0\n",
            "época 86 - error total:0\n",
            "época 87 - error total:0\n",
            "época 88 - error total:0\n",
            "época 89 - error total:0\n",
            "época 90 - error total:0\n",
            "época 91 - error total:0\n",
            "época 92 - error total:0\n",
            "época 93 - error total:0\n",
            "época 94 - error total:0\n",
            "época 95 - error total:0\n",
            "época 96 - error total:0\n",
            "época 97 - error total:0\n",
            "época 98 - error total:0\n",
            "época 99 - error total:0\n",
            "época 100 - error total:0\n"
          ]
        }
      ]
    },
    {
      "cell_type": "code",
      "source": [
        "# COMPROBAR CON UNA PRUEBA.\n",
        "entradas_test = np.array([[0,0],[0,1],[1,0],[1,1]])\n",
        "\n",
        "for input in entradas_test:\n",
        "  output = perceptron(input, pesos_entrenamiento, bias_entrenamiento)\n",
        "  print(f\"Entrada: {input}, Salida: {output}\")\n"
      ],
      "metadata": {
        "id": "68iZuG3_y99t",
        "colab": {
          "base_uri": "https://localhost:8080/"
        },
        "outputId": "d9e7629d-18c5-43cf-f1ee-a702f58cbb0d"
      },
      "execution_count": 6,
      "outputs": [
        {
          "output_type": "stream",
          "name": "stdout",
          "text": [
            "Entrada: [0 0], Salida: 0\n",
            "Entrada: [0 1], Salida: 0\n",
            "Entrada: [1 0], Salida: 0\n",
            "Entrada: [1 1], Salida: 1\n"
          ]
        }
      ]
    },
    {
      "cell_type": "code",
      "source": [
        "print(pesos_entrenamiento)"
      ],
      "metadata": {
        "colab": {
          "base_uri": "https://localhost:8080/"
        },
        "id": "M1BE6WN011dl",
        "outputId": "7c4619a4-abfa-42bd-8c3d-c8d965eb95e3"
      },
      "execution_count": 7,
      "outputs": [
        {
          "output_type": "stream",
          "name": "stdout",
          "text": [
            "[0.16729041 0.26293173]\n"
          ]
        }
      ]
    },
    {
      "cell_type": "code",
      "source": [
        "print(bias_entrenamiento)"
      ],
      "metadata": {
        "colab": {
          "base_uri": "https://localhost:8080/"
        },
        "id": "FfNO2xw02BqL",
        "outputId": "4b5f8b1e-47ae-4d72-fa09-6902d7ea6711"
      },
      "execution_count": 8,
      "outputs": [
        {
          "output_type": "stream",
          "name": "stdout",
          "text": [
            "-0.26764693315587706\n"
          ]
        }
      ]
    },
    {
      "cell_type": "code",
      "source": [],
      "metadata": {
        "id": "ihFtM1RK2E9P"
      },
      "execution_count": null,
      "outputs": []
    }
  ]
}