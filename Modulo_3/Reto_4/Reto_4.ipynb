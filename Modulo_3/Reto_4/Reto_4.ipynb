{
 "cells": [
  {
   "cell_type": "code",
   "execution_count": 98,
   "metadata": {},
   "outputs": [],
   "source": [
    "import os\n",
    "import numpy as np\n",
    "import pandas as pd\n",
    "import seaborn as sns\n",
    "import matplotlib.pyplot as plt\n",
    "import missingno as msno"
   ]
  },
  {
   "cell_type": "code",
   "execution_count": 99,
   "metadata": {},
   "outputs": [],
   "source": [
    "%matplotlib qt"
   ]
  },
  {
   "cell_type": "code",
   "execution_count": 100,
   "metadata": {},
   "outputs": [
    {
     "data": {
      "text/html": [
       "<div>\n",
       "<style scoped>\n",
       "    .dataframe tbody tr th:only-of-type {\n",
       "        vertical-align: middle;\n",
       "    }\n",
       "\n",
       "    .dataframe tbody tr th {\n",
       "        vertical-align: top;\n",
       "    }\n",
       "\n",
       "    .dataframe thead th {\n",
       "        text-align: right;\n",
       "    }\n",
       "</style>\n",
       "<table border=\"1\" class=\"dataframe\">\n",
       "  <thead>\n",
       "    <tr style=\"text-align: right;\">\n",
       "      <th></th>\n",
       "      <th>fecha</th>\n",
       "      <th>CO</th>\n",
       "      <th>NO</th>\n",
       "      <th>NO2</th>\n",
       "      <th>NOX</th>\n",
       "      <th>O3</th>\n",
       "      <th>PM10</th>\n",
       "      <th>PM25</th>\n",
       "      <th>SO2</th>\n",
       "    </tr>\n",
       "  </thead>\n",
       "  <tbody>\n",
       "    <tr>\n",
       "      <th>0</th>\n",
       "      <td>2015-01-01</td>\n",
       "      <td>1.050696</td>\n",
       "      <td>22.765528</td>\n",
       "      <td>24.225155</td>\n",
       "      <td>46.987578</td>\n",
       "      <td>23.175150</td>\n",
       "      <td>105.573684</td>\n",
       "      <td>78.953405</td>\n",
       "      <td>11.554723</td>\n",
       "    </tr>\n",
       "    <tr>\n",
       "      <th>1</th>\n",
       "      <td>2015-01-02</td>\n",
       "      <td>0.807585</td>\n",
       "      <td>32.249608</td>\n",
       "      <td>21.554160</td>\n",
       "      <td>53.800628</td>\n",
       "      <td>17.268366</td>\n",
       "      <td>36.687845</td>\n",
       "      <td>15.449438</td>\n",
       "      <td>NaN</td>\n",
       "    </tr>\n",
       "    <tr>\n",
       "      <th>2</th>\n",
       "      <td>2015-01-03</td>\n",
       "      <td>0.640755</td>\n",
       "      <td>21.686916</td>\n",
       "      <td>19.394081</td>\n",
       "      <td>41.071651</td>\n",
       "      <td>15.486486</td>\n",
       "      <td>29.269022</td>\n",
       "      <td>12.915129</td>\n",
       "      <td>1.436937</td>\n",
       "    </tr>\n",
       "    <tr>\n",
       "      <th>3</th>\n",
       "      <td>2015-01-04</td>\n",
       "      <td>0.726940</td>\n",
       "      <td>24.606272</td>\n",
       "      <td>19.560976</td>\n",
       "      <td>NaN</td>\n",
       "      <td>17.329032</td>\n",
       "      <td>39.961538</td>\n",
       "      <td>16.838284</td>\n",
       "      <td>1.809061</td>\n",
       "    </tr>\n",
       "    <tr>\n",
       "      <th>4</th>\n",
       "      <td>2015-01-05</td>\n",
       "      <td>0.530815</td>\n",
       "      <td>11.443182</td>\n",
       "      <td>20.990260</td>\n",
       "      <td>32.439935</td>\n",
       "      <td>14.470588</td>\n",
       "      <td>31.855643</td>\n",
       "      <td>NaN</td>\n",
       "      <td>8.315789</td>\n",
       "    </tr>\n",
       "  </tbody>\n",
       "</table>\n",
       "</div>"
      ],
      "text/plain": [
       "        fecha        CO         NO        NO2        NOX         O3  \\\n",
       "0  2015-01-01  1.050696  22.765528  24.225155  46.987578  23.175150   \n",
       "1  2015-01-02  0.807585  32.249608  21.554160  53.800628  17.268366   \n",
       "2  2015-01-03  0.640755  21.686916  19.394081  41.071651  15.486486   \n",
       "3  2015-01-04  0.726940  24.606272  19.560976        NaN  17.329032   \n",
       "4  2015-01-05  0.530815  11.443182  20.990260  32.439935  14.470588   \n",
       "\n",
       "         PM10       PM25        SO2  \n",
       "0  105.573684  78.953405  11.554723  \n",
       "1   36.687845  15.449438        NaN  \n",
       "2   29.269022  12.915129   1.436937  \n",
       "3   39.961538  16.838284   1.809061  \n",
       "4   31.855643        NaN   8.315789  "
      ]
     },
     "execution_count": 100,
     "metadata": {},
     "output_type": "execute_result"
    }
   ],
   "source": [
    "r = pd.read_csv('rama_2023_05_missing_outliers_limited.csv')\n",
    "r.head() "
   ]
  },
  {
   "cell_type": "code",
   "execution_count": 101,
   "metadata": {},
   "outputs": [],
   "source": [
    "r.set_index('fecha', inplace=True)"
   ]
  },
  {
   "cell_type": "code",
   "execution_count": 102,
   "metadata": {},
   "outputs": [
    {
     "data": {
      "text/html": [
       "<div>\n",
       "<style scoped>\n",
       "    .dataframe tbody tr th:only-of-type {\n",
       "        vertical-align: middle;\n",
       "    }\n",
       "\n",
       "    .dataframe tbody tr th {\n",
       "        vertical-align: top;\n",
       "    }\n",
       "\n",
       "    .dataframe thead th {\n",
       "        text-align: right;\n",
       "    }\n",
       "</style>\n",
       "<table border=\"1\" class=\"dataframe\">\n",
       "  <thead>\n",
       "    <tr style=\"text-align: right;\">\n",
       "      <th></th>\n",
       "      <th>CO</th>\n",
       "      <th>NO</th>\n",
       "      <th>NO2</th>\n",
       "      <th>NOX</th>\n",
       "      <th>O3</th>\n",
       "      <th>PM10</th>\n",
       "      <th>PM25</th>\n",
       "      <th>SO2</th>\n",
       "    </tr>\n",
       "    <tr>\n",
       "      <th>fecha</th>\n",
       "      <th></th>\n",
       "      <th></th>\n",
       "      <th></th>\n",
       "      <th></th>\n",
       "      <th></th>\n",
       "      <th></th>\n",
       "      <th></th>\n",
       "      <th></th>\n",
       "    </tr>\n",
       "  </thead>\n",
       "  <tbody>\n",
       "    <tr>\n",
       "      <th>2015-01-01</th>\n",
       "      <td>1.050696</td>\n",
       "      <td>22.765528</td>\n",
       "      <td>24.225155</td>\n",
       "      <td>46.987578</td>\n",
       "      <td>23.175150</td>\n",
       "      <td>105.573684</td>\n",
       "      <td>78.953405</td>\n",
       "      <td>11.554723</td>\n",
       "    </tr>\n",
       "    <tr>\n",
       "      <th>2015-01-02</th>\n",
       "      <td>0.807585</td>\n",
       "      <td>32.249608</td>\n",
       "      <td>21.554160</td>\n",
       "      <td>53.800628</td>\n",
       "      <td>17.268366</td>\n",
       "      <td>36.687845</td>\n",
       "      <td>15.449438</td>\n",
       "      <td>NaN</td>\n",
       "    </tr>\n",
       "    <tr>\n",
       "      <th>2015-01-03</th>\n",
       "      <td>0.640755</td>\n",
       "      <td>21.686916</td>\n",
       "      <td>19.394081</td>\n",
       "      <td>41.071651</td>\n",
       "      <td>15.486486</td>\n",
       "      <td>29.269022</td>\n",
       "      <td>12.915129</td>\n",
       "      <td>1.436937</td>\n",
       "    </tr>\n",
       "    <tr>\n",
       "      <th>2015-01-04</th>\n",
       "      <td>0.726940</td>\n",
       "      <td>24.606272</td>\n",
       "      <td>19.560976</td>\n",
       "      <td>NaN</td>\n",
       "      <td>17.329032</td>\n",
       "      <td>39.961538</td>\n",
       "      <td>16.838284</td>\n",
       "      <td>1.809061</td>\n",
       "    </tr>\n",
       "    <tr>\n",
       "      <th>2015-01-05</th>\n",
       "      <td>0.530815</td>\n",
       "      <td>11.443182</td>\n",
       "      <td>20.990260</td>\n",
       "      <td>32.439935</td>\n",
       "      <td>14.470588</td>\n",
       "      <td>31.855643</td>\n",
       "      <td>NaN</td>\n",
       "      <td>8.315789</td>\n",
       "    </tr>\n",
       "  </tbody>\n",
       "</table>\n",
       "</div>"
      ],
      "text/plain": [
       "                  CO         NO        NO2        NOX         O3        PM10  \\\n",
       "fecha                                                                          \n",
       "2015-01-01  1.050696  22.765528  24.225155  46.987578  23.175150  105.573684   \n",
       "2015-01-02  0.807585  32.249608  21.554160  53.800628  17.268366   36.687845   \n",
       "2015-01-03  0.640755  21.686916  19.394081  41.071651  15.486486   29.269022   \n",
       "2015-01-04  0.726940  24.606272  19.560976        NaN  17.329032   39.961538   \n",
       "2015-01-05  0.530815  11.443182  20.990260  32.439935  14.470588   31.855643   \n",
       "\n",
       "                 PM25        SO2  \n",
       "fecha                             \n",
       "2015-01-01  78.953405  11.554723  \n",
       "2015-01-02  15.449438        NaN  \n",
       "2015-01-03  12.915129   1.436937  \n",
       "2015-01-04  16.838284   1.809061  \n",
       "2015-01-05        NaN   8.315789  "
      ]
     },
     "execution_count": 102,
     "metadata": {},
     "output_type": "execute_result"
    }
   ],
   "source": [
    "r.head()"
   ]
  },
  {
   "cell_type": "code",
   "execution_count": 103,
   "metadata": {},
   "outputs": [],
   "source": [
    "#plt.plot(r.index,r[\"NOX\"])"
   ]
  },
  {
   "cell_type": "code",
   "execution_count": 104,
   "metadata": {},
   "outputs": [],
   "source": [
    "# Función para graficar series de tiempo con rango de fechas y zonas específicas\n",
    "def plot_time_series(r, variables, ylabel, title, start_date=None, end_date=None):\n",
    "    # Configurar el tamaño de la figura del gráfico\n",
    "    plt.figure(figsize=(15, 5))\n",
    "    \n",
    "    # Si se proporcionan fechas de inicio y fin, filtrar el DataFrame para ese rango de fechas\n",
    "    if start_date and end_date:\n",
    "        r = r.loc[start_date:end_date]\n",
    "    \n",
    "    # Iterar sobre cada zona especificada en la lista de zonas\n",
    "    for variable in variables:\n",
    "        # Crear el nombre de la columna combinando la zona y la variable\n",
    "        column = f\"{variable}\"\n",
    "        \n",
    "        # Verificar si la columna existe en el DataFrame\n",
    "        if column in r.columns:\n",
    "            # Graficar la serie de tiempo de la columna\n",
    "            plt.plot(r.index, r[column], label=column)\n",
    "        else:\n",
    "            # Imprimir un mensaje si la columna no se encuentra en el DataFrame\n",
    "            print(f\"Columna {column} no encontrada en el DataFrame\")\n",
    "    \n",
    "    # Etiqueta del eje x\n",
    "    plt.xlabel('Fecha')\n",
    "    # Etiqueta del eje y\n",
    "    plt.ylabel(ylabel)\n",
    "    # Título del gráfico\n",
    "    plt.title(title)\n",
    "    # Mostrar la leyenda del gráfico\n",
    "    plt.legend()\n",
    "    # Mostrar el gráfico\n",
    "    plt.show()"
   ]
  },
  {
   "cell_type": "markdown",
   "metadata": {},
   "source": [
    "## Series de tiempo"
   ]
  },
  {
   "cell_type": "code",
   "execution_count": 105,
   "metadata": {},
   "outputs": [],
   "source": [
    "# Llamar a la función para graficar PM10 en las zonas específicas con el rango de fechas indicado\n",
    "plot_time_series(r,['CO'], 'Cantidad CO', 'Series de Tiempo de CO', start_date='2015-01-01', end_date='2015-12-31')"
   ]
  },
  {
   "cell_type": "code",
   "execution_count": 106,
   "metadata": {},
   "outputs": [],
   "source": [
    "plot_time_series(r,['NO'], 'Cantidad NO', 'Series de Tiempo de NO', start_date='2015-01-01', end_date='2015-12-31')"
   ]
  },
  {
   "cell_type": "code",
   "execution_count": 107,
   "metadata": {},
   "outputs": [],
   "source": [
    "plot_time_series(r,['NO2'], 'Cantidad NO2', 'Series de Tiempo de NO2', start_date='2015-01-01', end_date='2015-12-31')"
   ]
  },
  {
   "cell_type": "code",
   "execution_count": 108,
   "metadata": {},
   "outputs": [],
   "source": [
    "plot_time_series(r,['NOX'], 'Cantidad NOX', 'Series de Tiempo de NOX', start_date='2015-01-01', end_date='2015-12-31')"
   ]
  },
  {
   "cell_type": "code",
   "execution_count": 109,
   "metadata": {},
   "outputs": [],
   "source": [
    "plot_time_series(r,['O3'], 'Cantidad O3', 'Series de Tiempo de O3', start_date='2015-01-01', end_date='2015-12-31')"
   ]
  },
  {
   "cell_type": "code",
   "execution_count": 110,
   "metadata": {},
   "outputs": [],
   "source": [
    "plot_time_series(r,['PM10'], 'Cantidad PM10', 'Series de Tiempo de PM10', start_date='2015-01-01', end_date='2015-12-31')"
   ]
  },
  {
   "cell_type": "code",
   "execution_count": 111,
   "metadata": {},
   "outputs": [],
   "source": [
    "plot_time_series(r,['PM25'], 'Cantidad PM25', 'Series de Tiempo de PM25', start_date='2015-01-01', end_date='2015-12-31')"
   ]
  },
  {
   "cell_type": "code",
   "execution_count": 112,
   "metadata": {},
   "outputs": [],
   "source": [
    "plot_time_series(r,['SO2'], 'Cantidad SO2', 'Series de Tiempo de SO2', start_date='2015-01-01', end_date='2015-12-31')"
   ]
  },
  {
   "cell_type": "code",
   "execution_count": 113,
   "metadata": {},
   "outputs": [],
   "source": [
    "#r.plot()"
   ]
  },
  {
   "cell_type": "markdown",
   "metadata": {},
   "source": [
    "## Valores atipicos con Diagrama de Caja y bigotes"
   ]
  },
  {
   "cell_type": "code",
   "execution_count": 114,
   "metadata": {},
   "outputs": [
    {
     "data": {
      "text/plain": [
       "<Axes: title={'center': 'Series de Tiempo de SO2'}, xlabel='Fecha', ylabel='Cantidad SO2'>"
      ]
     },
     "execution_count": 114,
     "metadata": {},
     "output_type": "execute_result"
    }
   ],
   "source": [
    "r.boxplot(column=\"CO\")"
   ]
  },
  {
   "cell_type": "code",
   "execution_count": 115,
   "metadata": {},
   "outputs": [
    {
     "data": {
      "text/plain": [
       "<Axes: title={'center': 'Series de Tiempo de SO2'}, xlabel='Fecha', ylabel='Cantidad SO2'>"
      ]
     },
     "execution_count": 115,
     "metadata": {},
     "output_type": "execute_result"
    }
   ],
   "source": [
    "r.boxplot(column=\"NO\")"
   ]
  },
  {
   "cell_type": "code",
   "execution_count": 116,
   "metadata": {},
   "outputs": [
    {
     "data": {
      "text/plain": [
       "<Axes: title={'center': 'Series de Tiempo de SO2'}, xlabel='Fecha', ylabel='Cantidad SO2'>"
      ]
     },
     "execution_count": 116,
     "metadata": {},
     "output_type": "execute_result"
    }
   ],
   "source": [
    "r.boxplot(column=\"NO2\")"
   ]
  },
  {
   "cell_type": "code",
   "execution_count": 117,
   "metadata": {},
   "outputs": [
    {
     "data": {
      "text/plain": [
       "<Axes: title={'center': 'Series de Tiempo de SO2'}, xlabel='Fecha', ylabel='Cantidad SO2'>"
      ]
     },
     "execution_count": 117,
     "metadata": {},
     "output_type": "execute_result"
    }
   ],
   "source": [
    "r.boxplot(column=\"NOX\")"
   ]
  },
  {
   "cell_type": "code",
   "execution_count": 118,
   "metadata": {},
   "outputs": [
    {
     "data": {
      "text/plain": [
       "<Axes: title={'center': 'Series de Tiempo de SO2'}, xlabel='Fecha', ylabel='Cantidad SO2'>"
      ]
     },
     "execution_count": 118,
     "metadata": {},
     "output_type": "execute_result"
    }
   ],
   "source": [
    "r.boxplot(column=\"O3\")"
   ]
  },
  {
   "cell_type": "code",
   "execution_count": 119,
   "metadata": {},
   "outputs": [
    {
     "data": {
      "text/plain": [
       "<Axes: title={'center': 'Series de Tiempo de SO2'}, xlabel='Fecha', ylabel='Cantidad SO2'>"
      ]
     },
     "execution_count": 119,
     "metadata": {},
     "output_type": "execute_result"
    }
   ],
   "source": [
    "r.boxplot(column=\"PM10\")"
   ]
  },
  {
   "cell_type": "code",
   "execution_count": 120,
   "metadata": {},
   "outputs": [
    {
     "data": {
      "text/plain": [
       "<Axes: title={'center': 'Series de Tiempo de SO2'}, xlabel='Fecha', ylabel='Cantidad SO2'>"
      ]
     },
     "execution_count": 120,
     "metadata": {},
     "output_type": "execute_result"
    }
   ],
   "source": [
    "r.boxplot(column=\"PM25\")"
   ]
  },
  {
   "cell_type": "code",
   "execution_count": 121,
   "metadata": {},
   "outputs": [
    {
     "data": {
      "text/plain": [
       "<Axes: title={'center': 'Series de Tiempo de SO2'}, xlabel='Fecha', ylabel='Cantidad SO2'>"
      ]
     },
     "execution_count": 121,
     "metadata": {},
     "output_type": "execute_result"
    }
   ],
   "source": [
    "r.boxplot(column=\"SO2\")"
   ]
  },
  {
   "cell_type": "markdown",
   "metadata": {},
   "source": [
    "## Manejo de datos atipicos"
   ]
  },
  {
   "cell_type": "code",
   "execution_count": 122,
   "metadata": {},
   "outputs": [
    {
     "name": "stdout",
     "output_type": "stream",
     "text": [
      "-0.08089470090070511\n",
      "1.0107079710068283\n"
     ]
    }
   ],
   "source": [
    "Q1 = r[\"CO\"].quantile(0.25)\n",
    "Q3 = r[\"CO\"].quantile(0.75)\n",
    "\n",
    "IQR = Q3 - Q1\n",
    "\n",
    "limite_inferior = Q1 - 1.5 * IQR\n",
    "\n",
    "print(limite_inferior)\n",
    "\n",
    "limite_superior = Q3 + 1.5 * IQR\n",
    "\n",
    "print(limite_superior)"
   ]
  },
  {
   "cell_type": "code",
   "execution_count": 123,
   "metadata": {},
   "outputs": [
    {
     "name": "stdout",
     "output_type": "stream",
     "text": [
      "-8.917274816874642\n",
      "36.38480134096411\n"
     ]
    }
   ],
   "source": [
    "Q1 = r[\"NO\"].quantile(0.25)\n",
    "Q3 = r[\"NO\"].quantile(0.75)\n",
    "\n",
    "IQR = Q3 - Q1\n",
    "\n",
    "limite_inferior = Q1 - 1.5 * IQR\n",
    "\n",
    "print(limite_inferior)\n",
    "\n",
    "limite_superior = Q3 + 1.5 * IQR\n",
    "\n",
    "print(limite_superior)"
   ]
  },
  {
   "cell_type": "code",
   "execution_count": 124,
   "metadata": {},
   "outputs": [
    {
     "name": "stdout",
     "output_type": "stream",
     "text": [
      "5.202670371312973\n",
      "39.726217144190244\n"
     ]
    }
   ],
   "source": [
    "Q1 = r[\"NO2\"].quantile(0.25)\n",
    "Q3 = r[\"NO2\"].quantile(0.75)\n",
    "\n",
    "IQR = Q3 - Q1\n",
    "\n",
    "limite_inferior = Q1 - 1.5 * IQR\n",
    "\n",
    "print(limite_inferior)\n",
    "\n",
    "limite_superior = Q3 + 1.5 * IQR\n",
    "\n",
    "print(limite_superior)"
   ]
  },
  {
   "cell_type": "code",
   "execution_count": 125,
   "metadata": {},
   "outputs": [
    {
     "name": "stdout",
     "output_type": "stream",
     "text": [
      "-2.633559483117434\n",
      "76.41228600160113\n"
     ]
    }
   ],
   "source": [
    "Q1 = r[\"NOX\"].quantile(0.25)\n",
    "Q3 = r[\"NOX\"].quantile(0.75)\n",
    "\n",
    "IQR = Q3 - Q1\n",
    "\n",
    "limite_inferior = Q1 - 1.5 * IQR\n",
    "\n",
    "print(limite_inferior)\n",
    "\n",
    "limite_superior = Q3 + 1.5 * IQR\n",
    "\n",
    "print(limite_superior)"
   ]
  },
  {
   "cell_type": "code",
   "execution_count": 58,
   "metadata": {},
   "outputs": [
    {
     "name": "stdout",
     "output_type": "stream",
     "text": [
      "5.559395728944619\n",
      "54.49971493481195\n"
     ]
    }
   ],
   "source": [
    "Q1 = r[\"O3\"].quantile(0.25)\n",
    "Q3 = r[\"O3\"].quantile(0.75)\n",
    "\n",
    "IQR = Q3 - Q1\n",
    "\n",
    "limite_inferior = Q1 - 1.5 * IQR\n",
    "\n",
    "print(limite_inferior)\n",
    "\n",
    "limite_superior = Q3 + 1.5 * IQR\n",
    "\n",
    "print(limite_superior)"
   ]
  },
  {
   "cell_type": "code",
   "execution_count": 126,
   "metadata": {},
   "outputs": [
    {
     "name": "stdout",
     "output_type": "stream",
     "text": [
      "-5.509170550050008\n",
      "87.96178242687199\n"
     ]
    }
   ],
   "source": [
    "Q1 = r[\"PM10\"].quantile(0.25)\n",
    "Q3 = r[\"PM10\"].quantile(0.75)\n",
    "\n",
    "IQR = Q3 - Q1\n",
    "\n",
    "limite_inferior = Q1 - 1.5 * IQR\n",
    "\n",
    "print(limite_inferior)\n",
    "\n",
    "limite_superior = Q3 + 1.5 * IQR\n",
    "\n",
    "print(limite_superior)"
   ]
  },
  {
   "cell_type": "code",
   "execution_count": 127,
   "metadata": {},
   "outputs": [
    {
     "name": "stdout",
     "output_type": "stream",
     "text": [
      "-1.041345510192011\n",
      "42.55665915796706\n"
     ]
    }
   ],
   "source": [
    "Q1 = r[\"PM25\"].quantile(0.25)\n",
    "Q3 = r[\"PM25\"].quantile(0.75)\n",
    "\n",
    "IQR = Q3 - Q1\n",
    "\n",
    "limite_inferior = Q1 - 1.5 * IQR\n",
    "\n",
    "print(limite_inferior)\n",
    "\n",
    "limite_superior = Q3 + 1.5 * IQR\n",
    "\n",
    "print(limite_superior)"
   ]
  },
  {
   "cell_type": "code",
   "execution_count": 128,
   "metadata": {},
   "outputs": [
    {
     "name": "stdout",
     "output_type": "stream",
     "text": [
      "-2.6786859460238768\n",
      "8.632066083884574\n"
     ]
    }
   ],
   "source": [
    "Q1 = r[\"SO2\"].quantile(0.25)\n",
    "Q3 = r[\"SO2\"].quantile(0.75)\n",
    "\n",
    "IQR = Q3 - Q1\n",
    "\n",
    "limite_inferior = Q1 - 1.5 * IQR\n",
    "\n",
    "print(limite_inferior)\n",
    "\n",
    "limite_superior = Q3 + 1.5 * IQR\n",
    "\n",
    "print(limite_superior)"
   ]
  },
  {
   "cell_type": "code",
   "execution_count": null,
   "metadata": {},
   "outputs": [],
   "source": [
    "CO > 1.1\n",
    "NO > 36.4\n",
    "NO2 > 39.73\n",
    "NOX > 76.41\n",
    "O3 > 60\n",
    "PM10 > 107\n",
    "PM25 > 42.55\n",
    "SO2 > 12"
   ]
  },
  {
   "cell_type": "code",
   "execution_count": 130,
   "metadata": {},
   "outputs": [
    {
     "data": {
      "text/plain": [
       "fecha\n",
       "2015-01-01    1.050696\n",
       "2015-01-02    0.807585\n",
       "2015-01-03    0.640755\n",
       "2015-01-04    0.726940\n",
       "2015-01-05    0.530815\n",
       "                ...   \n",
       "2023-05-27    0.256722\n",
       "2023-05-28    0.286826\n",
       "2023-05-29    0.482077\n",
       "2023-05-30    0.441455\n",
       "2023-05-31    0.340404\n",
       "Name: CO, Length: 3073, dtype: float64"
      ]
     },
     "execution_count": 130,
     "metadata": {},
     "output_type": "execute_result"
    }
   ],
   "source": [
    "r.loc[r[\"CO\"] > 1.1, \"CO\"] = np.nan\n",
    "r[\"CO\"]"
   ]
  },
  {
   "cell_type": "code",
   "execution_count": 131,
   "metadata": {},
   "outputs": [
    {
     "data": {
      "text/plain": [
       "fecha\n",
       "2015-01-01    22.765528\n",
       "2015-01-02    32.249608\n",
       "2015-01-03    21.686916\n",
       "2015-01-04    24.606272\n",
       "2015-01-05    11.443182\n",
       "                ...    \n",
       "2023-05-27     3.750583\n",
       "2023-05-28          NaN\n",
       "2023-05-29    11.448113\n",
       "2023-05-30    13.893519\n",
       "2023-05-31     5.353066\n",
       "Name: NO, Length: 3073, dtype: float64"
      ]
     },
     "execution_count": 131,
     "metadata": {},
     "output_type": "execute_result"
    }
   ],
   "source": [
    "r.loc[r[\"NO\"] > 36.4, \"NO\"] = np.nan\n",
    "r[\"NO\"]"
   ]
  },
  {
   "cell_type": "code",
   "execution_count": 132,
   "metadata": {},
   "outputs": [
    {
     "data": {
      "text/plain": [
       "fecha\n",
       "2015-01-01    24.225155\n",
       "2015-01-02    21.554160\n",
       "2015-01-03    19.394081\n",
       "2015-01-04    19.560976\n",
       "2015-01-05    20.990260\n",
       "                ...    \n",
       "2023-05-27    17.284351\n",
       "2023-05-28    16.349241\n",
       "2023-05-29    24.521154\n",
       "2023-05-30    22.615530\n",
       "2023-05-31          NaN\n",
       "Name: NO2, Length: 3073, dtype: float64"
      ]
     },
     "execution_count": 132,
     "metadata": {},
     "output_type": "execute_result"
    }
   ],
   "source": [
    "r.loc[r[\"NO2\"] > 39.73, \"NO2\"] = np.nan\n",
    "r[\"NO2\"]"
   ]
  },
  {
   "cell_type": "code",
   "execution_count": 133,
   "metadata": {},
   "outputs": [
    {
     "data": {
      "text/plain": [
       "fecha\n",
       "2015-01-01    46.987578\n",
       "2015-01-02    53.800628\n",
       "2015-01-03    41.071651\n",
       "2015-01-04          NaN\n",
       "2015-01-05    32.439935\n",
       "                ...    \n",
       "2023-05-27    21.629371\n",
       "2023-05-28    20.230769\n",
       "2023-05-29    36.436321\n",
       "2023-05-30    37.224537\n",
       "2023-05-31    25.710359\n",
       "Name: NOX, Length: 3073, dtype: float64"
      ]
     },
     "execution_count": 133,
     "metadata": {},
     "output_type": "execute_result"
    }
   ],
   "source": [
    "r.loc[r[\"NOX\"] > 76.41, \"NOX\"] = np.nan\n",
    "r[\"NOX\"]"
   ]
  },
  {
   "cell_type": "code",
   "execution_count": 134,
   "metadata": {},
   "outputs": [
    {
     "data": {
      "text/plain": [
       "fecha\n",
       "2015-01-01    23.175150\n",
       "2015-01-02    17.268366\n",
       "2015-01-03    15.486486\n",
       "2015-01-04    17.329032\n",
       "2015-01-05    14.470588\n",
       "                ...    \n",
       "2023-05-27    41.580645\n",
       "2023-05-28    36.913761\n",
       "2023-05-29    29.697068\n",
       "2023-05-30    36.185971\n",
       "2023-05-31          NaN\n",
       "Name: O3, Length: 3073, dtype: float64"
      ]
     },
     "execution_count": 134,
     "metadata": {},
     "output_type": "execute_result"
    }
   ],
   "source": [
    "r.loc[r[\"O3\"] > 60, \"O3\"] = np.nan\n",
    "r[\"O3\"]"
   ]
  },
  {
   "cell_type": "code",
   "execution_count": 135,
   "metadata": {},
   "outputs": [
    {
     "data": {
      "text/plain": [
       "fecha\n",
       "2015-01-01    105.573684\n",
       "2015-01-02     36.687845\n",
       "2015-01-03     29.269022\n",
       "2015-01-04     39.961538\n",
       "2015-01-05     31.855643\n",
       "                 ...    \n",
       "2023-05-27           NaN\n",
       "2023-05-28     28.580000\n",
       "2023-05-29     30.241486\n",
       "2023-05-30     35.859532\n",
       "2023-05-31     42.203390\n",
       "Name: PM10, Length: 3073, dtype: float64"
      ]
     },
     "execution_count": 135,
     "metadata": {},
     "output_type": "execute_result"
    }
   ],
   "source": [
    "r.loc[r[\"PM10\"] > 107, \"PM10\"] = np.nan\n",
    "r[\"PM10\"]"
   ]
  },
  {
   "cell_type": "code",
   "execution_count": 136,
   "metadata": {},
   "outputs": [
    {
     "data": {
      "text/plain": [
       "fecha\n",
       "2015-01-01    78.953405\n",
       "2015-01-02    15.449438\n",
       "2015-01-03    12.915129\n",
       "2015-01-04    16.838284\n",
       "2015-01-05          NaN\n",
       "                ...    \n",
       "2023-05-27    21.170139\n",
       "2023-05-28    18.454861\n",
       "2023-05-29    16.692857\n",
       "2023-05-30    20.888525\n",
       "2023-05-31    24.787097\n",
       "Name: PM25, Length: 3073, dtype: float64"
      ]
     },
     "execution_count": 136,
     "metadata": {},
     "output_type": "execute_result"
    }
   ],
   "source": [
    "r.loc[r[\"PM25\"] > 90, \"PM25\"] = np.nan\n",
    "r[\"PM25\"]"
   ]
  },
  {
   "cell_type": "code",
   "execution_count": 137,
   "metadata": {},
   "outputs": [
    {
     "data": {
      "text/plain": [
       "fecha\n",
       "2015-01-01    11.554723\n",
       "2015-01-02          NaN\n",
       "2015-01-03     1.436937\n",
       "2015-01-04     1.809061\n",
       "2015-01-05     8.315789\n",
       "                ...    \n",
       "2023-05-27     2.735683\n",
       "2023-05-28     2.331658\n",
       "2023-05-29     1.071588\n",
       "2023-05-30     1.181818\n",
       "2023-05-31     1.402083\n",
       "Name: SO2, Length: 3073, dtype: float64"
      ]
     },
     "execution_count": 137,
     "metadata": {},
     "output_type": "execute_result"
    }
   ],
   "source": [
    "r.loc[r[\"SO2\"] > 12, \"SO2\"] = np.nan\n",
    "r[\"SO2\"]"
   ]
  },
  {
   "cell_type": "markdown",
   "metadata": {},
   "source": [
    "### Imputación de valores nulos"
   ]
  },
  {
   "cell_type": "code",
   "execution_count": 138,
   "metadata": {},
   "outputs": [
    {
     "data": {
      "text/plain": [
       "CO      190\n",
       "NO      233\n",
       "NO2     214\n",
       "NOX     190\n",
       "O3      162\n",
       "PM10    152\n",
       "PM25    150\n",
       "SO2     252\n",
       "dtype: int64"
      ]
     },
     "execution_count": 138,
     "metadata": {},
     "output_type": "execute_result"
    }
   ],
   "source": [
    "r.isnull().sum()"
   ]
  },
  {
   "cell_type": "code",
   "execution_count": 139,
   "metadata": {},
   "outputs": [
    {
     "data": {
      "text/plain": [
       "<Axes: >"
      ]
     },
     "execution_count": 139,
     "metadata": {},
     "output_type": "execute_result"
    }
   ],
   "source": [
    "msno.matrix(r)"
   ]
  },
  {
   "cell_type": "code",
   "execution_count": 141,
   "metadata": {},
   "outputs": [
    {
     "name": "stdout",
     "output_type": "stream",
     "text": [
      "\n",
      "Número de valores nulos antes de la imputación:\n",
      "CO      190\n",
      "NO      233\n",
      "NO2     214\n",
      "NOX     190\n",
      "O3      162\n",
      "PM10    152\n",
      "PM25    150\n",
      "SO2     252\n",
      "dtype: int64\n",
      "\n",
      "Primeras filas del DataFrame después del promedio móvil y adición de columnas:\n",
      "                  CO         NO        NO2        NOX         O3        PM10  \\\n",
      "fecha                                                                          \n",
      "2015-01-01  1.050696  22.765528  24.225155  46.987578  23.175150  105.573684   \n",
      "2015-01-02  0.807585  32.249608  21.554160  53.800628  17.268366   36.687845   \n",
      "2015-01-03  0.640755  21.686916  19.394081  41.071651  15.486486   29.269022   \n",
      "2015-01-04  0.726940  24.606272  19.560976  47.286619  17.329032   39.961538   \n",
      "2015-01-05  0.530815  11.443182  20.990260  32.439935  14.470588   31.855643   \n",
      "\n",
      "                 PM25        SO2  \n",
      "fecha                             \n",
      "2015-01-01  78.953405  11.554723  \n",
      "2015-01-02  15.449438  11.554723  \n",
      "2015-01-03  12.915129   1.436937  \n",
      "2015-01-04  16.838284   1.809061  \n",
      "2015-01-05  31.039064   8.315789  \n",
      "\n",
      "Número de valores nulos después del promedio móvil:\n",
      "CO      0\n",
      "NO      0\n",
      "NO2     0\n",
      "NOX     0\n",
      "O3      0\n",
      "PM10    0\n",
      "PM25    0\n",
      "SO2     0\n",
      "dtype: int64\n"
     ]
    }
   ],
   "source": [
    "# Filtrar el DataFrame para obtener las columnas 'CE-CO' y 'CE-PM10' en el rango de fechas especificado\n",
    "r_impute = r[['CO', 'NO', 'NO2', 'NOX', 'O3', 'PM10', 'PM25', 'SO2']].loc['2015-01-01':'2023-05-31']\n",
    "\n",
    "# Contar y mostrar el número de valores nulos en cada columna del DataFrame filtrado\n",
    "print(\"\\nNúmero de valores nulos antes de la imputación:\")\n",
    "print(r_impute.isnull().sum())\n",
    "\n",
    "# Aplicar el promedio móvil para llenar los valores nulos en el DataFrame\n",
    "r_impute.loc[:, :] = r_impute.fillna(r_impute.rolling(window=12, min_periods=1).mean())\n",
    "\n",
    "# Mostrar las primeras filas del DataFrame después de la imputación y adición de columnas\n",
    "print(\"\\nPrimeras filas del DataFrame después del promedio móvil y adición de columnas:\")\n",
    "print(r_impute.head())\n",
    "\n",
    "# Contar y mostrar el número de valores nulos después del promedio móvil\n",
    "print(\"\\nNúmero de valores nulos después del promedio móvil:\")\n",
    "print(r_impute.isnull().sum())\n",
    "\n",
    "# Graficar las series de tiempo de 'CE-CO' y 'CE-PM10' después del promedio móvil\n",
    "plt.figure(figsize=(12, 6))\n",
    "r_impute[['CO', 'NO', 'NO2', 'NOX', 'O3', 'PM10', 'PM25', 'SO2']].loc['2015-01-01':'2023-05-31'].plot(ax=plt.gca())\n",
    "plt.title('Series de Tiempo de CE-CO y CE-PM10 (Después del Promedio Móvil)')\n",
    "plt.xlabel('Fecha')\n",
    "plt.ylabel('Concentración')\n",
    "plt.show()"
   ]
  },
  {
   "cell_type": "code",
   "execution_count": 142,
   "metadata": {},
   "outputs": [
    {
     "data": {
      "text/plain": [
       "CO      0\n",
       "NO      0\n",
       "NO2     0\n",
       "NOX     0\n",
       "O3      0\n",
       "PM10    0\n",
       "PM25    0\n",
       "SO2     0\n",
       "dtype: int64"
      ]
     },
     "execution_count": 142,
     "metadata": {},
     "output_type": "execute_result"
    }
   ],
   "source": [
    "r_impute.isnull().sum()"
   ]
  },
  {
   "cell_type": "code",
   "execution_count": 143,
   "metadata": {},
   "outputs": [
    {
     "data": {
      "text/html": [
       "<div>\n",
       "<style scoped>\n",
       "    .dataframe tbody tr th:only-of-type {\n",
       "        vertical-align: middle;\n",
       "    }\n",
       "\n",
       "    .dataframe tbody tr th {\n",
       "        vertical-align: top;\n",
       "    }\n",
       "\n",
       "    .dataframe thead th {\n",
       "        text-align: right;\n",
       "    }\n",
       "</style>\n",
       "<table border=\"1\" class=\"dataframe\">\n",
       "  <thead>\n",
       "    <tr style=\"text-align: right;\">\n",
       "      <th></th>\n",
       "      <th>CO</th>\n",
       "      <th>NO</th>\n",
       "      <th>NO2</th>\n",
       "      <th>NOX</th>\n",
       "      <th>O3</th>\n",
       "      <th>PM10</th>\n",
       "      <th>PM25</th>\n",
       "      <th>SO2</th>\n",
       "    </tr>\n",
       "  </thead>\n",
       "  <tbody>\n",
       "    <tr>\n",
       "      <th>count</th>\n",
       "      <td>3073.000000</td>\n",
       "      <td>3073.000000</td>\n",
       "      <td>3073.000000</td>\n",
       "      <td>3073.000000</td>\n",
       "      <td>3073.000000</td>\n",
       "      <td>3073.000000</td>\n",
       "      <td>3073.000000</td>\n",
       "      <td>3073.000000</td>\n",
       "    </tr>\n",
       "    <tr>\n",
       "      <th>mean</th>\n",
       "      <td>0.477670</td>\n",
       "      <td>14.215250</td>\n",
       "      <td>22.740125</td>\n",
       "      <td>37.520944</td>\n",
       "      <td>30.427253</td>\n",
       "      <td>41.844646</td>\n",
       "      <td>21.301206</td>\n",
       "      <td>3.267435</td>\n",
       "    </tr>\n",
       "    <tr>\n",
       "      <th>std</th>\n",
       "      <td>0.192706</td>\n",
       "      <td>7.586843</td>\n",
       "      <td>6.063086</td>\n",
       "      <td>13.439874</td>\n",
       "      <td>8.826064</td>\n",
       "      <td>15.686033</td>\n",
       "      <td>8.731267</td>\n",
       "      <td>2.305214</td>\n",
       "    </tr>\n",
       "    <tr>\n",
       "      <th>min</th>\n",
       "      <td>0.115917</td>\n",
       "      <td>1.168000</td>\n",
       "      <td>8.061630</td>\n",
       "      <td>9.983402</td>\n",
       "      <td>3.226054</td>\n",
       "      <td>8.218487</td>\n",
       "      <td>2.849315</td>\n",
       "      <td>0.630435</td>\n",
       "    </tr>\n",
       "    <tr>\n",
       "      <th>25%</th>\n",
       "      <td>0.326431</td>\n",
       "      <td>8.122622</td>\n",
       "      <td>18.270876</td>\n",
       "      <td>27.169118</td>\n",
       "      <td>24.009105</td>\n",
       "      <td>29.569343</td>\n",
       "      <td>15.359801</td>\n",
       "      <td>1.588542</td>\n",
       "    </tr>\n",
       "    <tr>\n",
       "      <th>50%</th>\n",
       "      <td>0.443210</td>\n",
       "      <td>12.756623</td>\n",
       "      <td>22.421517</td>\n",
       "      <td>35.827511</td>\n",
       "      <td>29.856667</td>\n",
       "      <td>40.237410</td>\n",
       "      <td>20.532578</td>\n",
       "      <td>2.534188</td>\n",
       "    </tr>\n",
       "    <tr>\n",
       "      <th>75%</th>\n",
       "      <td>0.598447</td>\n",
       "      <td>19.119231</td>\n",
       "      <td>26.753846</td>\n",
       "      <td>46.372320</td>\n",
       "      <td>36.077236</td>\n",
       "      <td>52.708716</td>\n",
       "      <td>26.181818</td>\n",
       "      <td>4.208333</td>\n",
       "    </tr>\n",
       "    <tr>\n",
       "      <th>max</th>\n",
       "      <td>1.099068</td>\n",
       "      <td>36.159420</td>\n",
       "      <td>39.633681</td>\n",
       "      <td>76.011594</td>\n",
       "      <td>58.091922</td>\n",
       "      <td>105.573684</td>\n",
       "      <td>86.909910</td>\n",
       "      <td>11.978131</td>\n",
       "    </tr>\n",
       "  </tbody>\n",
       "</table>\n",
       "</div>"
      ],
      "text/plain": [
       "                CO           NO          NO2          NOX           O3  \\\n",
       "count  3073.000000  3073.000000  3073.000000  3073.000000  3073.000000   \n",
       "mean      0.477670    14.215250    22.740125    37.520944    30.427253   \n",
       "std       0.192706     7.586843     6.063086    13.439874     8.826064   \n",
       "min       0.115917     1.168000     8.061630     9.983402     3.226054   \n",
       "25%       0.326431     8.122622    18.270876    27.169118    24.009105   \n",
       "50%       0.443210    12.756623    22.421517    35.827511    29.856667   \n",
       "75%       0.598447    19.119231    26.753846    46.372320    36.077236   \n",
       "max       1.099068    36.159420    39.633681    76.011594    58.091922   \n",
       "\n",
       "              PM10         PM25          SO2  \n",
       "count  3073.000000  3073.000000  3073.000000  \n",
       "mean     41.844646    21.301206     3.267435  \n",
       "std      15.686033     8.731267     2.305214  \n",
       "min       8.218487     2.849315     0.630435  \n",
       "25%      29.569343    15.359801     1.588542  \n",
       "50%      40.237410    20.532578     2.534188  \n",
       "75%      52.708716    26.181818     4.208333  \n",
       "max     105.573684    86.909910    11.978131  "
      ]
     },
     "execution_count": 143,
     "metadata": {},
     "output_type": "execute_result"
    }
   ],
   "source": [
    "r_impute.describe()"
   ]
  },
  {
   "cell_type": "code",
   "execution_count": 144,
   "metadata": {},
   "outputs": [],
   "source": [
    "#r_impute.to_csv('Agentes_contaminantes_corregido.csv', index=False)"
   ]
  },
  {
   "cell_type": "code",
   "execution_count": null,
   "metadata": {},
   "outputs": [],
   "source": []
  }
 ],
 "metadata": {
  "kernelspec": {
   "display_name": "base",
   "language": "python",
   "name": "python3"
  },
  "language_info": {
   "codemirror_mode": {
    "name": "ipython",
    "version": 3
   },
   "file_extension": ".py",
   "mimetype": "text/x-python",
   "name": "python",
   "nbconvert_exporter": "python",
   "pygments_lexer": "ipython3",
   "version": "3.11.7"
  }
 },
 "nbformat": 4,
 "nbformat_minor": 2
}
